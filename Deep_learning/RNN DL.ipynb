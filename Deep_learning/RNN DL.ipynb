{
 "cells": [
  {
   "cell_type": "code",
   "execution_count": null,
   "id": "1c898ad0",
   "metadata": {},
   "outputs": [],
   "source": [
    "import numpy as np\n",
    "import matplotlib.pyplot as plt\n",
    "import pandas as pd\n",
    "url = \n",
    "'https://raw.githubusercontent.com/mwitiderrick/stockprice/maste\n",
    "r/NSE-TATAGLOBAL.csv'dataset_train = \n",
    "pd.read_csv(url)training_set = dataset_train.iloc[:, 1:2].values\n",
    "dataset_train.head()"
   ]
  },
  {
   "cell_type": "code",
   "execution_count": null,
   "id": "7845c50b",
   "metadata": {},
   "outputs": [],
   "source": [
    "from sklearn.preprocessing import MinMaxScalersc = \n",
    "MinMaxScaler(feature_range=(0,1))training_set_scaled = \n",
    "sc.fit_transform(training_set)\n",
    "X_train = []\n",
    "y_train = []\n",
    "for i in range(60, 2035):\n",
    "X_train.append(training_set_scaled[i-60:i, 0])\n",
    "y_train.append(training_set_scaled[i, 0])\n",
    "X_train, y_train = np.array(X_train), np.array(y_train)\n",
    "X_train = np.reshape(X_train, (X_train.shape[0], \n",
    "X_train.shape[1], 1))\n",
    "from keras.models import Sequential\n",
    "from keras.layers import LSTM\n",
    "from keras.layers import Dropout\n",
    "from keras.layers import Dense\n",
    "model = \n",
    "Sequential()model.add(LSTM(units=50,return_sequences=True,input_\n",
    "shape=(X_train.shape[1], \n",
    "1)))model.add(Dropout(0.2))model.add(LSTM(units=50,return_sequen\n",
    "17\n",
    "ces=True))model.add(Dropout(0.2))model.add(LSTM(units=50,return_\n",
    "sequences=True))model.add(Dropout(0.2))model.add(LSTM(units=50))\n",
    "model.add(Dropout(0.2))model.add(Dense(units=1))model.compile(op\n",
    "timizer='adam',loss='mean_squared_error')model.fit(X_train,y_tra\n",
    "in,epochs=100,batch_size=32)\n",
    "url = \n",
    "'https://raw.githubusercontent.com/mwitiderrick/stockprice/maste\n",
    "r/tatatest.csv'dataset_test = pd.read_csv(url)real_stock_price = \n",
    "dataset_test.iloc[:, 1:2].values\n",
    "dataset_total = pd.concat((dataset_train['Open'], \n",
    "dataset_test['Open']), axis = 0)inputs = \n",
    "dataset_total[len(dataset_total) - len(dataset_test) -\n",
    "60:].valuesinputs = inputs.reshape(-1,1)inputs = \n",
    "sc.transform(inputs)X_test = []for i in range(60, \n",
    "76):X_test.append(inputs[i-60:i, 0])X_test = \n",
    "np.array(X_test)X_test = np.reshape(X_test, (X_test.shape[0], \n",
    "X_test.shape[1], 1))predicted_stock_price = \n",
    "model.predict(X_test)predicted_stock_price = \n",
    "sc.inverse_transform(predicted_stock_price)\n",
    "plt.plot(real_stock_price, color = 'black', label = 'TATA Stock \n",
    "Price')\n",
    "plt.plot(predicted_stock_price, color = 'green', label = \n",
    "'Predicted TATA Stock Price')\n",
    "plt.title('TATA Stock Price Prediction')\n",
    "plt.xlabel('Time')\n",
    "plt.ylabel('TATA Stock Price')\n",
    "plt.legend()plt.show()\n"
   ]
  }
 ],
 "metadata": {
  "kernelspec": {
   "display_name": "Python 3 (ipykernel)",
   "language": "python",
   "name": "python3"
  },
  "language_info": {
   "codemirror_mode": {
    "name": "ipython",
    "version": 3
   },
   "file_extension": ".py",
   "mimetype": "text/x-python",
   "name": "python",
   "nbconvert_exporter": "python",
   "pygments_lexer": "ipython3",
   "version": "3.9.7"
  }
 },
 "nbformat": 4,
 "nbformat_minor": 5
}

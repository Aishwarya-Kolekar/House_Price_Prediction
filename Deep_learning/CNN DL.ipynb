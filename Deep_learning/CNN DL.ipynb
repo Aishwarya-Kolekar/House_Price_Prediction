{
 "cells": [
  {
   "cell_type": "code",
   "execution_count": null,
   "id": "50af2e31",
   "metadata": {},
   "outputs": [],
   "source": [
    "import pandas as pd\n",
    "import numpy as np\n",
    "import tensorflow as tf\n",
    "import matplotlib.pyplot as plt"
   ]
  },
  {
   "cell_type": "code",
   "execution_count": null,
   "id": "85286d6f",
   "metadata": {},
   "outputs": [],
   "source": [
    "import os\n",
    "for dirname, _, filenames in os.walk('./sample_submission'):\n",
    "    for filename in filenames:\n",
    "        print(os.path.join(dirname, filename))"
   ]
  },
  {
   "cell_type": "code",
   "execution_count": null,
   "id": "895e90c8",
   "metadata": {},
   "outputs": [],
   "source": [
    "model = tf.keras.models.Sequential([\n",
    "    tf.keras.layers.Conv2D(16,(3,3),activation='relu',input_shape=(28,28,1)),\n",
    "    tf.keras.layers.MaxPooling2D(2,2),\n",
    "    tf.keras.layers.Conv2D(32,(3,3),activation='relu'),\n",
    "    tf.keras.layers.MaxPooling2D(2,2),\n",
    "    tf.keras.layers.Conv2D(64,(3,3),activation='relu'),\n",
    "    tf.keras.layers.MaxPooling2D(2,2),\n",
    "    tf.keras.layers.Flatten(),\n",
    "    tf.keras.layers.Dense(512,activation='relu'),\n",
    "    tf.keras.layers.Dense(10,activation='softmax')\n",
    "])"
   ]
  },
  {
   "cell_type": "code",
   "execution_count": null,
   "id": "c5c34527",
   "metadata": {},
   "outputs": [],
   "source": [
    "training_data = pd.read_csv(\"C:\\\\Users\\\\Divya\\\\Downloads\\\\train.csv\\\\train.csv\")\n",
    "test_data = pd.read_csv(\"C:\\\\Users\\\\Divya\\\\Downloads\\\\test.csv\\\\test.csv\").to_numpy()\n",
    "training_label = training_data['label'].to_numpy()\n",
    "training_data = training_data.drop('label',axis=1).to_numpy()\n",
    "sample_data = pd.read_csv('./sample_submission.csv')"
   ]
  },
  {
   "cell_type": "code",
   "execution_count": null,
   "id": "2332d36c",
   "metadata": {},
   "outputs": [],
   "source": [
    "model.compile(optimizer='rmsprop',loss='sparse_categorical_crossentropy',metrics=['accuracy'])"
   ]
  },
  {
   "cell_type": "code",
   "execution_count": null,
   "id": "d8ed798b",
   "metadata": {},
   "outputs": [],
   "source": [
    "training_data = training_data.reshape(-1,28, 28, 1)\n",
    "model.fit(training_data,training_label,epochs=5,validation_data=(training_data[800:1000],training_label[800:1000]))"
   ]
  },
  {
   "cell_type": "code",
   "execution_count": null,
   "id": "8314b0cf",
   "metadata": {},
   "outputs": [],
   "source": [
    "print('training_labels : ',training_label[:5])"
   ]
  },
  {
   "cell_type": "code",
   "execution_count": null,
   "id": "c2380b66",
   "metadata": {},
   "outputs": [],
   "source": [
    "test_data = test_data.reshape(-1,28, 28, 1)\n",
    "y_predict = np.argmax(model.predict(test_data), axis=1)"
   ]
  },
  {
   "cell_type": "code",
   "execution_count": null,
   "id": "acba58dc",
   "metadata": {},
   "outputs": [],
   "source": [
    "y_predict"
   ]
  },
  {
   "cell_type": "code",
   "execution_count": null,
   "id": "54b182e2",
   "metadata": {},
   "outputs": [],
   "source": [
    "a=0\n",
    "b=1\n",
    "for i in range(10):\n",
    "    data = np.reshape(test_data[a:b],(28,28))\n",
    "    plt.imshow(data,cmap='gray')\n",
    "    plt.title('Predicted Value : '+str(y_predict[a:b]))\n",
    "    plt.show()\n",
    "    a+=1\n",
    "    b+=1"
   ]
  },
  {
   "cell_type": "code",
   "execution_count": null,
   "id": "6167bea7",
   "metadata": {},
   "outputs": [],
   "source": [
    "sample_data['Label']=y_predict\n",
    "sample_data.head()"
   ]
  },
  {
   "cell_type": "code",
   "execution_count": null,
   "id": "77df2557",
   "metadata": {},
   "outputs": [],
   "source": [
    "sample_data.to_csv('sample_submission.csv',index=False)"
   ]
  }
 ],
 "metadata": {
  "kernelspec": {
   "display_name": "Python 3 (ipykernel)",
   "language": "python",
   "name": "python3"
  },
  "language_info": {
   "codemirror_mode": {
    "name": "ipython",
    "version": 3
   },
   "file_extension": ".py",
   "mimetype": "text/x-python",
   "name": "python",
   "nbconvert_exporter": "python",
   "pygments_lexer": "ipython3",
   "version": "3.9.7"
  }
 },
 "nbformat": 4,
 "nbformat_minor": 5
}

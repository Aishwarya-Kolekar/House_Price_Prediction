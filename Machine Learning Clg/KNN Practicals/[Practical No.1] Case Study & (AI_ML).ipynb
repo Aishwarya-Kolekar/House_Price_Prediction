{
 "cells": [
  {
   "cell_type": "code",
   "execution_count": 1,
   "id": "397d1dd9",
   "metadata": {},
   "outputs": [
    {
     "name": "stdout",
     "output_type": "stream",
     "text": [
      "[1 0 0 0 0 1 1 1 1 1]\n"
     ]
    }
   ],
   "source": [
    "Covid_cases = [19, 33, 59, 116, 194, 105, 51, 26, 11, 3]\n",
    "CovidFree_cases = [8, 4, 6, 10, 11, 9, 5, 3, 2, 0]\n",
    "Daily_vaccinated = [1946, 947, 1826, 1369, 1237, 721, 567, 1026, 1002, 1167]\n",
    "Reopening_college = ['yes','no','no','no','no','yes','yes','yes','yes', 'yes']\n",
    "\n",
    "from sklearn import preprocessing\n",
    "# creating encoder\n",
    "le = preprocessing.LabelEncoder()\n",
    "# creating string labels into numbers\n",
    "label = le.fit_transform(Reopening_college)\n",
    "print(label)\n",
    "                    "
   ]
  },
  {
   "cell_type": "code",
   "execution_count": 7,
   "id": "bc2d7113",
   "metadata": {},
   "outputs": [],
   "source": [
    "features = list(zip(Covid_cases, CovidFree_cases, Daily_vaccinated))"
   ]
  },
  {
   "cell_type": "code",
   "execution_count": 8,
   "id": "94deee3a",
   "metadata": {},
   "outputs": [
    {
     "data": {
      "text/plain": [
       "[(19, 8, 1946),\n",
       " (33, 4, 947),\n",
       " (59, 6, 1826),\n",
       " (116, 10, 1369),\n",
       " (194, 11, 1237),\n",
       " (105, 9, 721),\n",
       " (51, 5, 567),\n",
       " (26, 3, 1026),\n",
       " (11, 2, 1002),\n",
       " (3, 0, 1167)]"
      ]
     },
     "execution_count": 8,
     "metadata": {},
     "output_type": "execute_result"
    }
   ],
   "source": [
    "features"
   ]
  },
  {
   "cell_type": "code",
   "execution_count": 9,
   "id": "33b4b82e",
   "metadata": {},
   "outputs": [
    {
     "name": "stdout",
     "output_type": "stream",
     "text": [
      "[0]\n"
     ]
    }
   ],
   "source": [
    "from sklearn.neighbors import KNeighborsClassifier\n",
    "\n",
    "model = KNeighborsClassifier(n_neighbors=3)\n",
    "\n",
    "#Train the model using the training sets\n",
    "model.fit(features,label)\n",
    "\n",
    "predicted = model.predict([[19, 8, 1946]])#19:Covid_cases, 8:CovidFree_cases, 1946:Daily_vaccinated\n",
    "print(predicted)"
   ]
  },
  {
   "cell_type": "code",
   "execution_count": 10,
   "id": "598edae2",
   "metadata": {},
   "outputs": [
    {
     "name": "stdout",
     "output_type": "stream",
     "text": [
      "[0]\n"
     ]
    }
   ],
   "source": [
    "from sklearn.neighbors import KNeighborsClassifier\n",
    "\n",
    "model = KNeighborsClassifier(n_neighbors=2)\n",
    "\n",
    "#Train the model using the training sets\n",
    "model.fit(features,label)\n",
    "\n",
    "predicted = model.predict([[19, 8, 1946]])#19:Covid_cases, 8:CovidFree_cases, 1946:Daily_vaccinated\n",
    "print(predicted)"
   ]
  },
  {
   "cell_type": "code",
   "execution_count": 11,
   "id": "b2737be4",
   "metadata": {},
   "outputs": [
    {
     "name": "stdout",
     "output_type": "stream",
     "text": [
      "[1]\n"
     ]
    }
   ],
   "source": [
    "from sklearn.neighbors import KNeighborsClassifier\n",
    "\n",
    "model = KNeighborsClassifier(n_neighbors=1)\n",
    "\n",
    "#Train the model using the training sets\n",
    "model.fit(features,label)\n",
    "\n",
    "predicted = model.predict([[19, 8, 1946]])#19:Covid_cases, 8:CovidFree_cases, 1946:Daily_vaccinated\n",
    "print(predicted)"
   ]
  },
  {
   "cell_type": "code",
   "execution_count": 12,
   "id": "078262d1",
   "metadata": {},
   "outputs": [
    {
     "name": "stdout",
     "output_type": "stream",
     "text": [
      "[0]\n"
     ]
    }
   ],
   "source": [
    "predicted = model.predict([[33, 4, 947]])#33:Covid_cases, 4:CovidFree_cases, 947:Daily_vaccinated\n",
    "print(predicted)"
   ]
  },
  {
   "cell_type": "code",
   "execution_count": 13,
   "id": "9f5c4ee1",
   "metadata": {},
   "outputs": [
    {
     "name": "stdout",
     "output_type": "stream",
     "text": [
      "[0]\n"
     ]
    }
   ],
   "source": [
    "predicted = model.predict([[59, 6, 1826]])#59:Covid_cases, 6:CovidFree_cases, 1826:Daily_vaccinated\n",
    "print(predicted)"
   ]
  },
  {
   "cell_type": "code",
   "execution_count": 14,
   "id": "076b8c54",
   "metadata": {},
   "outputs": [
    {
     "name": "stdout",
     "output_type": "stream",
     "text": [
      "[0]\n"
     ]
    }
   ],
   "source": [
    "predicted = model.predict([[116, 10, 1369]])#116:Covid_cases, 10:CovidFree_cases, 1369:Daily_vaccinated\n",
    "print(predicted)"
   ]
  },
  {
   "cell_type": "code",
   "execution_count": 15,
   "id": "60d96252",
   "metadata": {},
   "outputs": [
    {
     "name": "stdout",
     "output_type": "stream",
     "text": [
      "[0]\n"
     ]
    }
   ],
   "source": [
    "predicted = model.predict([[194, 11, 1237]])#194:Covid_cases, 11:CovidFree_cases, 1237:Daily_vaccinated\n",
    "print(predicted)"
   ]
  },
  {
   "cell_type": "code",
   "execution_count": 16,
   "id": "405f7205",
   "metadata": {},
   "outputs": [
    {
     "name": "stdout",
     "output_type": "stream",
     "text": [
      "[1]\n"
     ]
    }
   ],
   "source": [
    "predicted = model.predict([[105, 9, 721]])#105:Covid_cases, 9:CovidFree_cases, 721:Daily_vaccinated\n",
    "print(predicted)"
   ]
  },
  {
   "cell_type": "code",
   "execution_count": 17,
   "id": "e894a7b4",
   "metadata": {},
   "outputs": [
    {
     "name": "stdout",
     "output_type": "stream",
     "text": [
      "[1]\n"
     ]
    }
   ],
   "source": [
    "predicted = model.predict([[51, 5, 567]])#51:Covid_cases, 5:CovidFree_cases, 567:Daily_vaccinated\n",
    "print(predicted)"
   ]
  },
  {
   "cell_type": "code",
   "execution_count": 18,
   "id": "e03a5421",
   "metadata": {},
   "outputs": [
    {
     "name": "stdout",
     "output_type": "stream",
     "text": [
      "[1]\n"
     ]
    }
   ],
   "source": [
    "predicted = model.predict([[26, 3, 1026]])#26:Covid_cases, 3:CovidFree_cases, 1026:Daily_vaccinated\n",
    "print(predicted)"
   ]
  },
  {
   "cell_type": "code",
   "execution_count": 19,
   "id": "543ae965",
   "metadata": {},
   "outputs": [
    {
     "name": "stdout",
     "output_type": "stream",
     "text": [
      "[1]\n"
     ]
    }
   ],
   "source": [
    "predicted = model.predict([[11, 2, 1002]])#11:Covid_cases, 2:CovidFree_cases, 1002:Daily_vaccinated\n",
    "print(predicted)"
   ]
  },
  {
   "cell_type": "code",
   "execution_count": 20,
   "id": "17e92231",
   "metadata": {},
   "outputs": [
    {
     "name": "stdout",
     "output_type": "stream",
     "text": [
      "[1]\n"
     ]
    }
   ],
   "source": [
    "predicted = model.predict([[3, 0, 1167]])#3:Covid_cases, 0:CovidFree_cases, 1167:Daily_vaccinated\n",
    "print(predicted)"
   ]
  },
  {
   "cell_type": "code",
   "execution_count": null,
   "id": "75724b53",
   "metadata": {},
   "outputs": [],
   "source": []
  },
  {
   "cell_type": "code",
   "execution_count": null,
   "id": "a68478dd",
   "metadata": {},
   "outputs": [],
   "source": []
  },
  {
   "cell_type": "code",
   "execution_count": 31,
   "id": "97abe9d3",
   "metadata": {},
   "outputs": [],
   "source": [
    "\n",
    "                       # PRACTICAL NO.1 = K Nearest Neighbors Classification\n"
   ]
  },
  {
   "cell_type": "code",
   "execution_count": null,
   "id": "f2112c5b",
   "metadata": {},
   "outputs": [],
   "source": []
  },
  {
   "cell_type": "code",
   "execution_count": 6,
   "id": "418b904c",
   "metadata": {},
   "outputs": [
    {
     "name": "stdout",
     "output_type": "stream",
     "text": [
      "[1 1 0 1 1 0 0 0 1 1 1 1 0 0 0]\n",
      "[1 1 1 0 0 1 1 0 1 0 0 1 1 1 0]\n",
      "[1 1 0 0 1 1 1 0 0 1 0 1 1 1 0]\n"
     ]
    }
   ],
   "source": [
    "Fever=[102,103,101,99.9,100,100,102,100,99.9,102,99.9,101,103,103,102]\n",
    "sore_throat=['yes','yes','no','yes','yes','no','no','no','yes','yes','yes','yes','no','no','no']\n",
    "cold=['yes','yes','yes','no','no','yes','yes','no','yes','no','no','yes','yes','yes','no']\n",
    "covid_check=['yes','yes','no','no','yes','yes','yes','no','no','yes','no','yes','yes','yes','no']\n",
    "\n",
    "from sklearn import preprocessing\n",
    "# creating encoder\n",
    "le = preprocessing.LabelEncoder()\n",
    "# creating string into numeric formate\n",
    "sore_encoder = le.fit_transform(sore_throat)\n",
    "print(sore_encoder)\n",
    "cold_encoder = le.fit_transform(cold)\n",
    "print(cold_encoder)\n",
    "label = le.fit_transform(covid_check)\n",
    "print(label)"
   ]
  },
  {
   "cell_type": "code",
   "execution_count": 7,
   "id": "d12a6000",
   "metadata": {},
   "outputs": [],
   "source": [
    "features = list(zip(Fever, sore_encoder, cold_encoder))"
   ]
  },
  {
   "cell_type": "code",
   "execution_count": 8,
   "id": "1949b92b",
   "metadata": {},
   "outputs": [
    {
     "data": {
      "text/plain": [
       "[(102, 1, 1),\n",
       " (103, 1, 1),\n",
       " (101, 0, 1),\n",
       " (99.9, 1, 0),\n",
       " (100, 1, 0),\n",
       " (100, 0, 1),\n",
       " (102, 0, 1),\n",
       " (100, 0, 0),\n",
       " (99.9, 1, 1),\n",
       " (102, 1, 0),\n",
       " (99.9, 1, 0),\n",
       " (101, 1, 1),\n",
       " (103, 0, 1),\n",
       " (103, 0, 1),\n",
       " (102, 0, 0)]"
      ]
     },
     "execution_count": 8,
     "metadata": {},
     "output_type": "execute_result"
    }
   ],
   "source": [
    "features"
   ]
  },
  {
   "cell_type": "code",
   "execution_count": 9,
   "id": "8b6663ec",
   "metadata": {},
   "outputs": [
    {
     "name": "stdout",
     "output_type": "stream",
     "text": [
      "[1]\n"
     ]
    }
   ],
   "source": [
    "from sklearn.neighbors import KNeighborsClassifier\n",
    "model = KNeighborsClassifier(n_neighbors= 3)\n",
    "# Train the model by using training dataset\n",
    "model.fit(features, label)\n",
    "predicted = model.predict([[102, 1, 1]]) # 102:Fever, 1:sore_encoder, 1:cold_encoder\n",
    "print(predicted)"
   ]
  },
  {
   "cell_type": "code",
   "execution_count": 10,
   "id": "50996d2a",
   "metadata": {},
   "outputs": [
    {
     "name": "stdout",
     "output_type": "stream",
     "text": [
      "[1]\n"
     ]
    }
   ],
   "source": [
    "from sklearn.neighbors import KNeighborsClassifier\n",
    "model = KNeighborsClassifier(n_neighbors= 2)\n",
    "# Train the model by using training dataset\n",
    "model.fit(features, label)\n",
    "predicted = model.predict([[102, 1, 1]]) # 102:Fever, 1:sore_encoder, 1:cold_encoder\n",
    "print(predicted)"
   ]
  },
  {
   "cell_type": "code",
   "execution_count": 16,
   "id": "1a0d1cf9",
   "metadata": {},
   "outputs": [
    {
     "name": "stdout",
     "output_type": "stream",
     "text": [
      "[1]\n"
     ]
    }
   ],
   "source": [
    "from sklearn.neighbors import KNeighborsClassifier\n",
    "model = KNeighborsClassifier(n_neighbors= 1)\n",
    "# Train the model by using training dataset\n",
    "model.fit(features, label)\n",
    "predicted = model.predict([[102, 1, 1]]) # 102:Fever, 1:sore_encoder, 1:cold_encoder\n",
    "print(predicted)"
   ]
  },
  {
   "cell_type": "code",
   "execution_count": 17,
   "id": "856b0cf3",
   "metadata": {},
   "outputs": [
    {
     "name": "stdout",
     "output_type": "stream",
     "text": [
      "[1]\n"
     ]
    }
   ],
   "source": [
    "predicted = model.predict([[103, 1, 1]]) # 103:Fever, 1:sore_encoder, 1:cold_encoder\n",
    "print(predicted)"
   ]
  },
  {
   "cell_type": "code",
   "execution_count": 18,
   "id": "b883038c",
   "metadata": {},
   "outputs": [
    {
     "name": "stdout",
     "output_type": "stream",
     "text": [
      "[0]\n"
     ]
    }
   ],
   "source": [
    "predicted = model.predict([[101, 0, 1]]) # 101:Fever, 0:sore_encoder, 1:cold_encoder\n",
    "print(predicted)"
   ]
  },
  {
   "cell_type": "code",
   "execution_count": 19,
   "id": "859d0103",
   "metadata": {},
   "outputs": [
    {
     "name": "stdout",
     "output_type": "stream",
     "text": [
      "[0]\n"
     ]
    }
   ],
   "source": [
    "predicted = model.predict([[99.9, 1, 0]]) # 99.9:Fever, 1:sore_encoder, 0:cold_encoder\n",
    "print(predicted)"
   ]
  },
  {
   "cell_type": "code",
   "execution_count": 20,
   "id": "fbf3d8c7",
   "metadata": {},
   "outputs": [
    {
     "name": "stdout",
     "output_type": "stream",
     "text": [
      "[1]\n"
     ]
    }
   ],
   "source": [
    "predicted = model.predict([[100, 1, 0]]) # 100:Fever, 1:sore_encoder, 0:cold_encoder\n",
    "print(predicted)"
   ]
  },
  {
   "cell_type": "code",
   "execution_count": 21,
   "id": "0ba6ae52",
   "metadata": {},
   "outputs": [
    {
     "name": "stdout",
     "output_type": "stream",
     "text": [
      "[1]\n"
     ]
    }
   ],
   "source": [
    "predicted = model.predict([[100, 0, 1]]) # 100:Fever, 0:sore_encoder, 1:cold_encoder\n",
    "print(predicted)"
   ]
  },
  {
   "cell_type": "code",
   "execution_count": 22,
   "id": "7dfb7720",
   "metadata": {},
   "outputs": [
    {
     "name": "stdout",
     "output_type": "stream",
     "text": [
      "[1]\n"
     ]
    }
   ],
   "source": [
    "predicted = model.predict([[102, 0, 1]]) # 102:Fever, 0:sore_encoder, 1:cold_encoder\n",
    "print(predicted)"
   ]
  },
  {
   "cell_type": "code",
   "execution_count": 23,
   "id": "756b7350",
   "metadata": {},
   "outputs": [
    {
     "name": "stdout",
     "output_type": "stream",
     "text": [
      "[0]\n"
     ]
    }
   ],
   "source": [
    "predicted = model.predict([[100, 0, 0]]) # 100:Fever, 0:sore_encoder, 0:cold_encoder\n",
    "print(predicted)"
   ]
  },
  {
   "cell_type": "code",
   "execution_count": 24,
   "id": "f20b6bc2",
   "metadata": {},
   "outputs": [
    {
     "name": "stdout",
     "output_type": "stream",
     "text": [
      "[0]\n"
     ]
    }
   ],
   "source": [
    "predicted = model.predict([[99.9, 1, 1]]) # 99.9:Fever, 1:sore_encoder, 1:cold_encoder\n",
    "print(predicted)"
   ]
  },
  {
   "cell_type": "code",
   "execution_count": 27,
   "id": "6c451ff5",
   "metadata": {},
   "outputs": [
    {
     "name": "stdout",
     "output_type": "stream",
     "text": [
      "[1]\n"
     ]
    }
   ],
   "source": [
    "predicted = model.predict([[102, 1, 0]]) # 102:Fever, 1:sore_encoder, 0:cold_encoder\n",
    "print(predicted)"
   ]
  },
  {
   "cell_type": "code",
   "execution_count": 26,
   "id": "2d7eea6a",
   "metadata": {},
   "outputs": [
    {
     "name": "stdout",
     "output_type": "stream",
     "text": [
      "[0]\n"
     ]
    }
   ],
   "source": [
    "predicted = model.predict([[99.9, 1, 0]]) # 99.9:Fever, 1:sore_encoder, 0:cold_encoder\n",
    "print(predicted)"
   ]
  },
  {
   "cell_type": "code",
   "execution_count": 28,
   "id": "71b95285",
   "metadata": {},
   "outputs": [
    {
     "name": "stdout",
     "output_type": "stream",
     "text": [
      "[1]\n"
     ]
    }
   ],
   "source": [
    "predicted = model.predict([[101, 1, 1]]) # 101:Fever, 1:sore_encoder, 1:cold_encoder\n",
    "print(predicted)"
   ]
  },
  {
   "cell_type": "code",
   "execution_count": 29,
   "id": "b8423582",
   "metadata": {},
   "outputs": [
    {
     "name": "stdout",
     "output_type": "stream",
     "text": [
      "[1]\n"
     ]
    }
   ],
   "source": [
    "predicted = model.predict([[103, 0, 1]]) # 103:Fever, 0:sore_encoder, 1:cold_encoder\n",
    "print(predicted)"
   ]
  },
  {
   "cell_type": "code",
   "execution_count": 30,
   "id": "d3fc1d56",
   "metadata": {},
   "outputs": [
    {
     "name": "stdout",
     "output_type": "stream",
     "text": [
      "[0]\n"
     ]
    }
   ],
   "source": [
    "predicted = model.predict([[102, 0, 0]]) # 102:Fever, 0:sore_encoder, 0:cold_encoder\n",
    "print(predicted)"
   ]
  },
  {
   "cell_type": "code",
   "execution_count": null,
   "id": "8329bd6b",
   "metadata": {},
   "outputs": [],
   "source": []
  }
 ],
 "metadata": {
  "kernelspec": {
   "display_name": "Python 3 (ipykernel)",
   "language": "python",
   "name": "python3"
  },
  "language_info": {
   "codemirror_mode": {
    "name": "ipython",
    "version": 3
   },
   "file_extension": ".py",
   "mimetype": "text/x-python",
   "name": "python",
   "nbconvert_exporter": "python",
   "pygments_lexer": "ipython3",
   "version": "3.9.7"
  }
 },
 "nbformat": 4,
 "nbformat_minor": 5
}

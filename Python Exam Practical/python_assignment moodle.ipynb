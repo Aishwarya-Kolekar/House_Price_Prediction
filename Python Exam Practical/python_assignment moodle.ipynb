{
  "nbformat": 4,
  "nbformat_minor": 0,
  "metadata": {
    "colab": {
      "name": "python_assignment.ipynb",
      "provenance": [],
      "collapsed_sections": [],
      "toc_visible": true
    },
    "kernelspec": {
      "name": "python3",
      "display_name": "Python 3"
    },
    "language_info": {
      "name": "python"
    }
  },
  "cells": [
    {
      "cell_type": "markdown",
      "source": [
        "# Palindrome "
      ],
      "metadata": {
        "id": "Yi2Tk-MESOpa"
      }
    },
    {
      "cell_type": "markdown",
      "source": [
        "Q1. To check palindrome with slicing."
      ],
      "metadata": {
        "id": "A1g_wfsgWpEI"
      }
    },
    {
      "cell_type": "code",
      "execution_count": null,
      "metadata": {
        "colab": {
          "base_uri": "https://localhost:8080/"
        },
        "id": "oPuhbosSCobH",
        "outputId": "89c3bea0-4882-4716-8a96-7e96d7f49289"
      },
      "outputs": [
        {
          "output_type": "stream",
          "name": "stdout",
          "text": [
            "enter string : goog\n",
            "Entered string is a palindrome\n"
          ]
        }
      ],
      "source": [
        "s = input('enter string : ')\n",
        "\n",
        "# checking for palindrome with slicing\n",
        "\n",
        "if s == s[::-1]:\n",
        "  print('Entered string is a palindrome')\n",
        "else:\n",
        "  print('Entered string is not a palindrome')"
      ]
    },
    {
      "cell_type": "markdown",
      "source": [
        "Q2. To check palindrome without slicing."
      ],
      "metadata": {
        "id": "ps9c6kimWwi1"
      }
    },
    {
      "cell_type": "code",
      "source": [
        "s = input('Enter string : ')\n",
        "L = list(s)\n",
        "L.reverse()\n",
        "Reverse = \"\".join(L)\n",
        "if s == Reverse:\n",
        "  print('Entered string is a palindrome')\n",
        "else:\n",
        "  print('Entered string is not a palindrome')"
      ],
      "metadata": {
        "colab": {
          "base_uri": "https://localhost:8080/"
        },
        "id": "T1JOM1LzWfVy",
        "outputId": "e718a89d-6fcd-4097-d702-46c31a630a88"
      },
      "execution_count": null,
      "outputs": [
        {
          "output_type": "stream",
          "name": "stdout",
          "text": [
            "Enter string : creed\n",
            "Entered string is not a palindrome\n"
          ]
        }
      ]
    },
    {
      "cell_type": "markdown",
      "source": [
        "Q3. To check palindrome without slicing( another method)"
      ],
      "metadata": {
        "id": "OMTk6SlyXl7a"
      }
    },
    {
      "cell_type": "code",
      "source": [
        "s = input('Enter string : ')\n",
        "c = s\n",
        "l = len(s)\n",
        "for i in s:\n",
        "  if i != c[l-1]:\n",
        "    print('Entered string is not a palindrome')\n",
        "    break\n",
        "  l -= 1\n",
        "else:\n",
        "  print('Entered string is a palindrome')"
      ],
      "metadata": {
        "colab": {
          "base_uri": "https://localhost:8080/"
        },
        "id": "uU2EmoXWXwnx",
        "outputId": "a8980255-1a4e-4dce-8393-c0900081a10d"
      },
      "execution_count": null,
      "outputs": [
        {
          "output_type": "stream",
          "name": "stdout",
          "text": [
            "Enter string : malayalam\n",
            "Entered string is a palindrome\n"
          ]
        }
      ]
    },
    {
      "cell_type": "markdown",
      "source": [
        "Q4. Convert a string to camel case."
      ],
      "metadata": {
        "id": "iAGlchNhYQqm"
      }
    },
    {
      "cell_type": "code",
      "source": [
        "s = input('Enter string : ')\n",
        "lst = []\n",
        "\n",
        "for word in s.split():\n",
        "  lst.append(word[0].upper()+word[1:])\n",
        "\n",
        "Cam = \" \".join(lst)\n",
        "print('String \"%s\" converted to camel case is \"%s\"'% (s, Cam))"
      ],
      "metadata": {
        "colab": {
          "base_uri": "https://localhost:8080/"
        },
        "id": "0nP1fyKbYT4P",
        "outputId": "1905dce5-e50d-4889-8fb7-47b16fa9424f"
      },
      "execution_count": null,
      "outputs": [
        {
          "output_type": "stream",
          "name": "stdout",
          "text": [
            "Enter string : My name is Aish\n",
            "String \"My name is Aish\" converted to camel case is \"My Name Is Aish\"\n"
          ]
        }
      ]
    },
    {
      "cell_type": "markdown",
      "source": [
        "Q5. Find the number of vowels and consonants."
      ],
      "metadata": {
        "id": "x1KfS1-rY61E"
      }
    },
    {
      "cell_type": "code",
      "source": [
        "s = input('Enter string : ')\n",
        "\n",
        "v = 0\n",
        "c = 0\n",
        "\n",
        "for char in s:\n",
        "  if char in ['a', 'e', 'i', 'o', 'u'] or char in ['A', 'E', 'I', 'O', 'U']:\n",
        "    v += 1\n",
        "  elif char.isalpha():\n",
        "    c += 1\n",
        "\n",
        "print('Number of vowels is %d and number of consonants is %d' %(v,c))"
      ],
      "metadata": {
        "colab": {
          "base_uri": "https://localhost:8080/"
        },
        "id": "0fJCFQJpZBDa",
        "outputId": "e9f45361-7ae8-4774-c813-3213616b27e5"
      },
      "execution_count": null,
      "outputs": [
        {
          "output_type": "stream",
          "name": "stdout",
          "text": [
            "Enter string : Assassin's Creed\n",
            "Number of vowels is 5 and number of consonants is 9\n"
          ]
        }
      ]
    },
    {
      "cell_type": "markdown",
      "source": [
        "Q6. Validate a gien date (output1)."
      ],
      "metadata": {
        "id": "2oO5R61saGY4"
      }
    },
    {
      "cell_type": "code",
      "source": [
        "maxdays = [None, 31, 28, 31, 30, 31, 30, 31, 31, 30, 31, 30, 31]\n",
        "line = input('enter the date as dd/mm/yyyy : ')\n",
        "(dd, mm, yy) = line.split('/')\n",
        "dd = int(dd)\n",
        "mm = int(mm)\n",
        "yy = int(yy)\n",
        "if (yy % 4 == 0 and yy % 100 != 0) or (yy % 400 == 0):\n",
        "  maxdays[2] =29\n",
        "if mm < 1 or mm > 12:\n",
        "  print('invalid month')\n",
        "elif dd < 1 or dd > maxdays[mm]:\n",
        "  print('invalid date')\n",
        "else:\n",
        "  print('date ok')"
      ],
      "metadata": {
        "colab": {
          "base_uri": "https://localhost:8080/"
        },
        "id": "-rWK_vdwaLBA",
        "outputId": "9af8cb58-3a7c-4d65-ad9f-baceb6a101b9"
      },
      "execution_count": null,
      "outputs": [
        {
          "output_type": "stream",
          "name": "stdout",
          "text": [
            "enter the date as dd/mm/yyyy : 06/05/2018\n",
            "date ok\n"
          ]
        }
      ]
    },
    {
      "cell_type": "markdown",
      "source": [
        "Q7. Validate a given date (output 2)."
      ],
      "metadata": {
        "id": "LY2noJc7bdJK"
      }
    },
    {
      "cell_type": "code",
      "source": [
        "maxdays = [None, 31, 28, 31, 30, 31, 30, 31, 31, 30, 31, 30, 31]\n",
        "line = input('enter the date as dd/mm/yyyy : ')\n",
        "(dd, mm, yy) = line.split('/')\n",
        "dd = int(dd)\n",
        "mm = int(mm)\n",
        "yy = int(yy)\n",
        "if (yy % 4 == 0 and yy % 100 != 0) or (yy % 400 == 0):\n",
        "  maxdays[2] =29\n",
        "if mm < 1 or mm > 12:\n",
        "  print('invalid month')\n",
        "elif dd < 1 or dd > maxdays[mm]:\n",
        "  print('invalid date')\n",
        "else:\n",
        "  print('date ok')"
      ],
      "metadata": {
        "colab": {
          "base_uri": "https://localhost:8080/"
        },
        "id": "0uDf6Idjbjzf",
        "outputId": "a60325cb-4fc2-402f-a699-e7b490a1d9d6"
      },
      "execution_count": null,
      "outputs": [
        {
          "output_type": "stream",
          "name": "stdout",
          "text": [
            "enter the date as dd/mm/yyyy : 34 / 06 / 2018\n",
            "invalid date\n"
          ]
        }
      ]
    },
    {
      "cell_type": "markdown",
      "source": [
        "Q8. Validate a given date (output 3)."
      ],
      "metadata": {
        "id": "T_R1l45LcKvt"
      }
    },
    {
      "cell_type": "code",
      "source": [
        "maxdays = [None, 31, 28, 31, 30, 31, 30, 31, 31, 30, 31, 30, 31]\n",
        "line = input('enter the date as dd/mm/yyyy : ')\n",
        "(dd, mm, yy) = line.split('/')\n",
        "dd = int(dd)\n",
        "mm = int(mm)\n",
        "yy = int(yy)\n",
        "if (yy % 4 == 0 and yy % 100 != 0) or (yy % 400 == 0):\n",
        "  maxdays[2] =29\n",
        "if mm < 1 or mm > 12:\n",
        "  print('invalid month')\n",
        "elif dd < 1 or dd > maxdays[mm]:\n",
        "  print('invalid date')\n",
        "else:\n",
        "  print('date ok')"
      ],
      "metadata": {
        "colab": {
          "base_uri": "https://localhost:8080/"
        },
        "id": "9I93XmcdcQXE",
        "outputId": "a450a85a-7c31-4298-d648-c0934d6b72aa"
      },
      "execution_count": null,
      "outputs": [
        {
          "output_type": "stream",
          "name": "stdout",
          "text": [
            "enter the date as dd/mm/yyyy : 31 / 15 / 2018\n",
            "invalid month\n"
          ]
        }
      ]
    },
    {
      "cell_type": "markdown",
      "source": [
        "Q9. Finding unique characters in a given string."
      ],
      "metadata": {
        "id": "2ODFNlzrcfzp"
      }
    },
    {
      "cell_type": "code",
      "source": [
        "def find_unique(*all):\n",
        "  for word in all:\n",
        "    unique_char_list = list(set(word))\n",
        "    print('Unique characters in '+ word+' : '+ str(unique_char_list))\n",
        "\n",
        "find_unique('aaaa', 'abcd', 'abba', 'xyz', 'abcba')"
      ],
      "metadata": {
        "colab": {
          "base_uri": "https://localhost:8080/"
        },
        "id": "vyekzhYjcpaj",
        "outputId": "3f391ad1-c189-4df8-e034-ecd93e77010e"
      },
      "execution_count": null,
      "outputs": [
        {
          "output_type": "stream",
          "name": "stdout",
          "text": [
            "Unique characters in aaaa : ['a']\n",
            "Unique characters in abcd : ['b', 'd', 'a', 'c']\n",
            "Unique characters in abba : ['b', 'a']\n",
            "Unique characters in xyz : ['z', 'y', 'x']\n",
            "Unique characters in abcba : ['b', 'a', 'c']\n"
          ]
        }
      ]
    },
    {
      "cell_type": "markdown",
      "source": [
        "Q10. Generate Pascal Triangle (output 1)."
      ],
      "metadata": {
        "id": "o0PEWDe2dMs_"
      }
    },
    {
      "cell_type": "code",
      "source": [
        "print('Enter n : ', end = '')\n",
        "n = int(input())\n",
        "# create a list of lists, each list having varying # of elements\n",
        "# = jagged array\n",
        "\n",
        "# create n lists\n",
        "pt = []\n",
        "for i in range(n):\n",
        "  pt.append([])\n",
        "  pt[i].append(1)\n",
        "  for j in range(1, i):\n",
        "    pt[i].append(pt[i-1][j-1] + pt[i - 1][j])\n",
        "  if i != 0 : pt[i].append(1)\n",
        "\n",
        "# print(pt)\n",
        "for i in range(n):\n",
        "  # output spaces ; # of spaces decreases as ia increases\n",
        "  print('   ' * (n - i), end = '', sep = \"\")\n",
        "  for j in range(i + 1):\n",
        "    print('{0:6}'.format(pt[i][j]), end = '', sep = '')\n",
        "  print()"
      ],
      "metadata": {
        "colab": {
          "base_uri": "https://localhost:8080/"
        },
        "id": "NRmTiY55dR5z",
        "outputId": "096d7c24-cee2-4a50-9030-31a4c4d854d2"
      },
      "execution_count": null,
      "outputs": [
        {
          "output_type": "stream",
          "name": "stdout",
          "text": [
            "Enter n : 5\n",
            "                    1\n",
            "                 1     1\n",
            "              1     2     1\n",
            "           1     3     3     1\n",
            "        1     4     6     4     1\n"
          ]
        }
      ]
    },
    {
      "cell_type": "markdown",
      "source": [
        "Q11. Generate Pascal Triangle (output 2)."
      ],
      "metadata": {
        "id": "LbHTQsuSffuP"
      }
    },
    {
      "cell_type": "code",
      "source": [
        "print('Enter n : ', end = '')\n",
        "n = int(input())\n",
        "# create a list of lists, each list having varying # of elements\n",
        "# = jagged array\n",
        "\n",
        "# create n lists\n",
        "pt = []\n",
        "for i in range(n):\n",
        "  pt.append([])\n",
        "  pt[i].append(1)\n",
        "  for j in range(1, i):\n",
        "    pt[i].append(pt[i-1][j-1] + pt[i - 1][j])\n",
        "  if i != 0 : pt[i].append(1)\n",
        "\n",
        "# print(pt)\n",
        "for i in range(n):\n",
        "  # output spaces ; # of spaces decreases as ia increases\n",
        "  print('   ' * (n - i), end = '', sep = \"\")\n",
        "  for j in range(i + 1):\n",
        "    print('{0:6}'.format(pt[i][j]), end = '', sep = '')\n",
        "  print()"
      ],
      "metadata": {
        "colab": {
          "base_uri": "https://localhost:8080/"
        },
        "id": "EvMDRWalfZTs",
        "outputId": "256161c2-8ddd-48d1-b7d1-61923c60ab5f"
      },
      "execution_count": null,
      "outputs": [
        {
          "output_type": "stream",
          "name": "stdout",
          "text": [
            "Enter n : 4\n",
            "                 1\n",
            "              1     1\n",
            "           1     2     1\n",
            "        1     3     3     1\n"
          ]
        }
      ]
    },
    {
      "cell_type": "markdown",
      "source": [
        "Q12. Concatenating all given strings to a single string."
      ],
      "metadata": {
        "id": "gbMV0Z2Pg5Bz"
      }
    },
    {
      "cell_type": "code",
      "source": [
        "def combine(*all, init = 'result: ', sep = ','):\n",
        "  return init + sep.join(all)\n",
        "\n",
        "print(combine('this', 'is', 'a', 'test'))\n",
        "print(combine('this', 'is', 'a', 'test', init = 'fool', sep = ' - '))"
      ],
      "metadata": {
        "colab": {
          "base_uri": "https://localhost:8080/"
        },
        "id": "X2KXDrykg_A3",
        "outputId": "6a10d246-4f5f-4d68-9aec-e27a88bf735d"
      },
      "execution_count": null,
      "outputs": [
        {
          "output_type": "stream",
          "name": "stdout",
          "text": [
            "result: this,is,a,test\n",
            "foolthis - is - a - test\n"
          ]
        }
      ]
    },
    {
      "cell_type": "markdown",
      "source": [
        "Q13. Functionality of histogram."
      ],
      "metadata": {
        "id": "QhIym6Khh8g3"
      }
    },
    {
      "cell_type": "code",
      "source": [
        "def histogram(s):\n",
        "  d = dict()\n",
        "  for c in s:\n",
        "    d[c] = d.get(c, 0) + 1\n",
        "  return d\n",
        "\n",
        "# OR\n",
        "\n",
        "def histogram(s):\n",
        "  d = dict()\n",
        "  for c in s:\n",
        "    if c not in d:\n",
        "      d[c] = 1\n",
        "    else:\n",
        "      d[c] = d[c] + 1\n",
        "  return d\n",
        "\n",
        "def print_hist(h):\n",
        "  key_list = sorted(h.keys())\n",
        "  for key in key_list:\n",
        "    print(key, h.get(key))\n",
        "\n",
        "print_hist(histogram('brontosaurus'))"
      ],
      "metadata": {
        "colab": {
          "base_uri": "https://localhost:8080/"
        },
        "id": "Gb3tLGO0h-7q",
        "outputId": "3dfec667-9f13-48e4-a4f2-7cdb475cdc7d"
      },
      "execution_count": null,
      "outputs": [
        {
          "output_type": "stream",
          "name": "stdout",
          "text": [
            "a 1\n",
            "b 1\n",
            "n 1\n",
            "o 2\n",
            "r 2\n",
            "s 2\n",
            "t 1\n",
            "u 2\n"
          ]
        }
      ]
    },
    {
      "cell_type": "markdown",
      "source": [
        "Q14. Traverse a given path (output 1 & 2)"
      ],
      "metadata": {
        "id": "4bhTw-FumcHR"
      }
    },
    {
      "cell_type": "code",
      "source": [
        "import os\n",
        "\n",
        "# set the directory to start from\n",
        "print('Enter path to traverse : ', end = '')\n",
        "rootDir = input()\n",
        "if (os.path.exists(rootDir)):\n",
        "  dir_count = 0\n",
        "  file_count = 0\n",
        "  for dirName, subdirList, fileList in os.walk(rootDir):\n",
        "    print('Found directory : %s' %dirName)\n",
        "    # check ot ignore starting directory while taking directory count\n",
        "    # normpath returns the normalized path eliminating double slashes etc.\n",
        "    if os.path.normpath(rootDir) != os.path.normpath(dirName):\n",
        "      dir_count += 1\n",
        "    for fname in fileList:\n",
        "      file_count += 1\n",
        "      print('\\t%s'% fname)\n",
        "\n",
        "  print('No : of subdirectories : ', dir_count, end = '')\n",
        "  print('\\nNo. : of files : ' file_count, end = '')\n",
        "else:\n",
        "  print(\"Entered pth doesn't exist\")"
      ],
      "metadata": {
        "id": "yYe6jNhumhdz"
      },
      "execution_count": null,
      "outputs": []
    },
    {
      "cell_type": "markdown",
      "source": [
        "Q15. Creating a class called My Stack (output 1)."
      ],
      "metadata": {
        "id": "avDzdZ7-4xbA"
      }
    },
    {
      "cell_type": "code",
      "source": [
        "class MyStack:\n",
        "  # assumed that the size is not negative\n",
        "  def __init__(self, size = 10):\n",
        "    self.mylist = [ ]\n",
        "    self.size = size\n",
        "  def push(self, elem):\n",
        "    l = len(self.mylist)\n",
        "    if l < self.size:\n",
        "      self.mylist.append(elem)\n",
        "    else:\n",
        "      raise StackFull()\n",
        "  def pop(self):\n",
        "    if len(self.mylist) == 0:\n",
        "      raise StackEmpty()\n",
        "    else:\n",
        "      return self.mylist.pop()\n",
        "\n",
        "s = MyStack(3)\n",
        "# what follows could be enu driven\n",
        "\n",
        "try:\n",
        "  s.push(10)\n",
        "  s.push(10)\n",
        "  s.push(30)\n",
        "\n",
        "  print(s.pop())\n",
        "  print(s.pop())\n",
        "  print(s.pop())\n",
        "\n",
        "except Exception as e:\n",
        "  print(e)"
      ],
      "metadata": {
        "colab": {
          "base_uri": "https://localhost:8080/"
        },
        "id": "7kz06hk3484_",
        "outputId": "36fa292f-2875-4549-df28-a6abc1559fe3"
      },
      "execution_count": null,
      "outputs": [
        {
          "output_type": "stream",
          "name": "stdout",
          "text": [
            "30\n",
            "10\n",
            "10\n"
          ]
        }
      ]
    },
    {
      "cell_type": "markdown",
      "source": [
        "Q16. Creating a class called My Stack (output 2)."
      ],
      "metadata": {
        "id": "NLqYZgB58Zmi"
      }
    },
    {
      "cell_type": "code",
      "source": [
        "class MyStack:\n",
        "  # assumed that the size is not negative\n",
        "  def __init__(self, size = 10):\n",
        "    self.mylist = [ ]\n",
        "    self.size = size\n",
        "  def push(self, elem):\n",
        "    l = len(self.mylist)\n",
        "    if l < self.size:\n",
        "      self.mylist.append(elem)\n",
        "    else:\n",
        "      raise StackFull()\n",
        "  def pop(self):\n",
        "    if len(self.mylist) == 0:\n",
        "      raise StackEmpty()\n",
        "    else:\n",
        "      return self.mylist.pop()\n",
        "\n",
        "s = MyStack(3)\n",
        "# what follows could be enu driven\n",
        "\n",
        "try:\n",
        "  s.push(10)\n",
        "  s.push(10)\n",
        "  s.push(30)\n",
        "  s.push(40)\n",
        "\n",
        "  print(s.pop())\n",
        "  print(s.pop())\n",
        "  print(s.pop())\n",
        "\n",
        "except Exception as e:\n",
        "  print(e)"
      ],
      "metadata": {
        "colab": {
          "base_uri": "https://localhost:8080/"
        },
        "id": "BTswWKC08d_c",
        "outputId": "7c381339-355f-403b-f6d0-da6bbe84cd66"
      },
      "execution_count": null,
      "outputs": [
        {
          "output_type": "stream",
          "name": "stdout",
          "text": [
            "name 'StackFull' is not defined\n"
          ]
        }
      ]
    },
    {
      "cell_type": "markdown",
      "source": [
        "Q17. Creating a class called My Stack (output 3)."
      ],
      "metadata": {
        "id": "UFxWp6V89NCv"
      }
    },
    {
      "cell_type": "code",
      "source": [
        "class MyStack:\n",
        "  # assumed that the size is not negative\n",
        "  def __init__(self, size = 10):\n",
        "    self.mylist = [ ]\n",
        "    self.size = size\n",
        "  def push(self, elem):\n",
        "    l = len(self.mylist)\n",
        "    if l < self.size:\n",
        "      self.mylist.append(elem)\n",
        "    else:\n",
        "      raise StackFull()\n",
        "  def pop(self):\n",
        "    if len(self.mylist) == 0:\n",
        "      raise StackEmpty()\n",
        "    else:\n",
        "      return self.mylist.pop()\n",
        "\n",
        "s = MyStack(3)\n",
        "# what follows could be enu driven\n",
        "\n",
        "try:\n",
        "  s.push(10)\n",
        "  s.push(10)\n",
        "  s.push(30)\n",
        "\n",
        "  print(s.pop())\n",
        "  print(s.pop())\n",
        "  print(s.pop())\n",
        "  print(s.pop())\n",
        "\n",
        "except Exception as e:\n",
        "  print(e)"
      ],
      "metadata": {
        "colab": {
          "base_uri": "https://localhost:8080/"
        },
        "id": "quAOnTwQ9SJ4",
        "outputId": "ad7fb5e0-a9c2-48ae-de2f-7e191680ac56"
      },
      "execution_count": null,
      "outputs": [
        {
          "output_type": "stream",
          "name": "stdout",
          "text": [
            "30\n",
            "10\n",
            "10\n",
            "name 'StackEmpty' is not defined\n"
          ]
        }
      ]
    },
    {
      "cell_type": "markdown",
      "source": [
        "Q18. Creating a class to represent city."
      ],
      "metadata": {
        "id": "HGTZsHbX9wwe"
      }
    },
    {
      "cell_type": "code",
      "source": [
        "class Place:\n",
        "  def __init__(self, city, *places):\n",
        "    self.city = city\n",
        "    self.places = list(places)\n",
        "\n",
        "  def add(self, place):\n",
        "    self.places.append(place)\n",
        "\n",
        "  def remove(self, place):\n",
        "    #excption not checked \n",
        "    self.places.remove(place)\n",
        "\n",
        "  def disp(self):\n",
        "    print(self.city)\n",
        "    for place in self.places:\n",
        "      print('\\t',place)\n",
        "\n",
        "\n",
        "p = Place('Mysore', 'Mysore Palace', 'Zoo')\n",
        "p.disp()\n",
        "p.add('KRS')\n",
        "p.disp()\n",
        "p.remove('Zoo')\n",
        "p.disp()"
      ],
      "metadata": {
        "colab": {
          "base_uri": "https://localhost:8080/"
        },
        "id": "p5KssdwI91UY",
        "outputId": "42f068c2-1364-476e-f933-89248c0d6261"
      },
      "execution_count": null,
      "outputs": [
        {
          "output_type": "stream",
          "name": "stdout",
          "text": [
            "Mysore\n",
            "\t Mysore Palace\n",
            "\t Zoo\n",
            "Mysore\n",
            "\t Mysore Palace\n",
            "\t Zoo\n",
            "\t KRS\n",
            "Mysore\n",
            "\t Mysore Palace\n",
            "\t KRS\n"
          ]
        }
      ]
    },
    {
      "cell_type": "markdown",
      "source": [
        "Q19. Regular Expressions ('details.txt' is the input file)."
      ],
      "metadata": {
        "id": "bcKMHcgZ_a1W"
      }
    },
    {
      "cell_type": "code",
      "source": [
        ""
      ],
      "metadata": {
        "id": "JKb-NMYd_mHm"
      },
      "execution_count": null,
      "outputs": []
    }
  ]
}
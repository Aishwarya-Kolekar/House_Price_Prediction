{
 "cells": [
  {
   "cell_type": "markdown",
   "id": "f6739665",
   "metadata": {},
   "source": [
    "# ASSIGNMENT 1"
   ]
  },
  {
   "cell_type": "raw",
   "id": "07485cc7",
   "metadata": {},
   "source": []
  },
  {
   "cell_type": "markdown",
   "id": "97e4e0ab",
   "metadata": {},
   "source": [
    "# Q1. To write a python program to find data types of a numbers."
   ]
  },
  {
   "cell_type": "code",
   "execution_count": 1,
   "id": "c3f54868",
   "metadata": {},
   "outputs": [
    {
     "name": "stdout",
     "output_type": "stream",
     "text": [
      "3 is of type :  <class 'int'>\n",
      "3.55 is of type :  <class 'float'>\n",
      "(2+434j) is of type :  <class 'complex'>\n"
     ]
    }
   ],
   "source": [
    "a = 3\n",
    "print(a, 'is of type : ', type(a))\n",
    "\n",
    "b = 3.55\n",
    "print(b, 'is of type : ', type(b))\n",
    "\n",
    "c = 2 + 434j\n",
    "print(c, 'is of type : ', type(c))"
   ]
  },
  {
   "cell_type": "markdown",
   "id": "7b9f2358",
   "metadata": {},
   "source": [
    "# Q2. Write a program to perform different arithmatic operations on numbers."
   ]
  },
  {
   "cell_type": "code",
   "execution_count": 2,
   "id": "a66aac72",
   "metadata": {},
   "outputs": [
    {
     "name": "stdout",
     "output_type": "stream",
     "text": [
      "Enter first number :2\n",
      "Enter second number :3\n",
      "Sum of 2 and 3 is :-  5\n",
      "Difference of 2 and 3 is :-  -1\n",
      "Product of 2 and 3 is :-  6\n",
      "Division of 2 and 3 is :-  0.6666666666666666\n",
      "Floor Division of 2 and 3 is :-  0\n",
      "Exponent of 2 and 3 is :-  8\n",
      "Modulus of 2 and 3 is :-  2\n"
     ]
    }
   ],
   "source": [
    "num1 = int(input('Enter first number :'))\n",
    "num2 = int(input('Enter second number :'))\n",
    "add = num1+num2\n",
    "dif = num1-num2\n",
    "mul = num1*num2\n",
    "div = num1/num2\n",
    "floor_div = num1//num2\n",
    "power = num1**num2\n",
    "modulus = num1%num2\n",
    "\n",
    "print('Sum of', num1, 'and', num2, 'is :- ', add)\n",
    "print('Difference of', num1, 'and', num2, 'is :- ', dif)\n",
    "print('Product of', num1, 'and', num2, 'is :- ', mul)\n",
    "print('Division of', num1, 'and', num2, 'is :- ', div)\n",
    "print('Floor Division of', num1, 'and', num2, 'is :- ',floor_div)\n",
    "print('Exponent of', num1, 'and', num2, 'is :- ', power)\n",
    "print('Modulus of', num1, 'and', num2, 'is :- ', modulus)"
   ]
  },
  {
   "cell_type": "markdown",
   "id": "2e24a706",
   "metadata": {},
   "source": [
    "# Q3. To write a program to create, concatenate and print a string and accessing sub-string from given string."
   ]
  },
  {
   "cell_type": "code",
   "execution_count": 3,
   "id": "169e33a6",
   "metadata": {},
   "outputs": [
    {
     "name": "stdout",
     "output_type": "stream",
     "text": [
      "I'm Gouri\n",
      "How you you.\n",
      "should i call you.\n",
      "concatenated =  I'm Gouri How you you.\n",
      "should i call you.\n",
      "multiplying =  I'm GouriI'm Gouri\n",
      "first character of string I\n",
      "last character of string i\n",
      "characters from 3 to 9  Gouri\n",
      "characters from 6 to 2 u\n"
     ]
    }
   ],
   "source": [
    "my_string = \"I'm Gouri\"\n",
    "print(my_string)\n",
    "\n",
    "my_string1 = \"\"\"How you you.\n",
    "should i call you.\"\"\"\n",
    "print(my_string1)\n",
    "\n",
    "print('concatenated = ',my_string +\" \"+ my_string1)\n",
    "print('multiplying = ', my_string *2)\n",
    "\n",
    "print('first character of string', my_string[0])\n",
    "print('last character of string', my_string[-1])\n",
    "print('characters from 3 to 9', my_string[3:10])\n",
    "print('characters from 6 to 2', my_string[6:-2])"
   ]
  },
  {
   "cell_type": "markdown",
   "id": "c1bed0d0",
   "metadata": {},
   "source": [
    "# Q5. To write a python program to create, append and remove lists."
   ]
  },
  {
   "cell_type": "code",
   "execution_count": 4,
   "id": "78b4b465",
   "metadata": {},
   "outputs": [
    {
     "name": "stdout",
     "output_type": "stream",
     "text": [
      "I\n",
      "my\n",
      "Gouri\n",
      "here\n",
      "['I', 'my', 'Gouri', 'here', 9, 8, 7, 6, 5]\n",
      "Enter index no.5\n"
     ]
    },
    {
     "ename": "IndexError",
     "evalue": "list assignment index out of range",
     "output_type": "error",
     "traceback": [
      "\u001b[1;31m---------------------------------------------------------------------------\u001b[0m",
      "\u001b[1;31mIndexError\u001b[0m                                Traceback (most recent call last)",
      "\u001b[1;32mC:\\Users\\GAURIM~1\\AppData\\Local\\Temp/ipykernel_51816/3681118064.py\u001b[0m in \u001b[0;36m<module>\u001b[1;34m\u001b[0m\n\u001b[0;32m     10\u001b[0m \u001b[0mindex\u001b[0m \u001b[1;33m=\u001b[0m \u001b[0minput\u001b[0m\u001b[1;33m(\u001b[0m\u001b[1;34m'Enter index no.'\u001b[0m\u001b[1;33m)\u001b[0m\u001b[1;33m\u001b[0m\u001b[1;33m\u001b[0m\u001b[0m\n\u001b[0;32m     11\u001b[0m \u001b[0mindex\u001b[0m \u001b[1;33m=\u001b[0m \u001b[0mint\u001b[0m\u001b[1;33m(\u001b[0m\u001b[0mindex\u001b[0m\u001b[1;33m)\u001b[0m\u001b[1;33m\u001b[0m\u001b[1;33m\u001b[0m\u001b[0m\n\u001b[1;32m---> 12\u001b[1;33m \u001b[1;32mdel\u001b[0m \u001b[0ml2\u001b[0m\u001b[1;33m[\u001b[0m\u001b[0mindex\u001b[0m\u001b[1;33m]\u001b[0m\u001b[1;33m\u001b[0m\u001b[1;33m\u001b[0m\u001b[0m\n\u001b[0m\u001b[0;32m     13\u001b[0m \u001b[0mprint\u001b[0m\u001b[1;33m(\u001b[0m\u001b[0ml2\u001b[0m\u001b[1;33m)\u001b[0m\u001b[1;33m\u001b[0m\u001b[1;33m\u001b[0m\u001b[0m\n",
      "\u001b[1;31mIndexError\u001b[0m: list assignment index out of range"
     ]
    }
   ],
   "source": [
    "l1 = ['I','my','Gouri','here']\n",
    "l2 = [9,8,7,6,5]\n",
    "\n",
    "for i in l1:\n",
    "    print(i)\n",
    "    \n",
    "l3 = l1+l2\n",
    "print(l3)\n",
    "\n",
    "index = input('Enter index no.')\n",
    "index = int(index)\n",
    "del l2[index]\n",
    "print(l2)"
   ]
  },
  {
   "cell_type": "markdown",
   "id": "11248ef4",
   "metadata": {},
   "source": [
    "# Q6. Tuple handling in python."
   ]
  },
  {
   "cell_type": "code",
   "execution_count": 5,
   "id": "8a3e3d8b",
   "metadata": {},
   "outputs": [
    {
     "name": "stdout",
     "output_type": "stream",
     "text": [
      "('first', 3, 'going to be', 1, 'latest go')\n",
      "first\n",
      "3\n",
      "going to be\n",
      "1\n",
      "latest go\n"
     ]
    }
   ],
   "source": [
    "my_tuple = ('first',3,'going to be',1,'latest go' )\n",
    "print(my_tuple)\n",
    "\n",
    "for i in my_tuple:\n",
    "    print(i)"
   ]
  },
  {
   "cell_type": "markdown",
   "id": "7961f3dd",
   "metadata": {},
   "source": [
    "# Q7. Write a program to create, change the elements, access the elements and to delete or remove element from the dictionary."
   ]
  },
  {
   "cell_type": "code",
   "execution_count": 6,
   "id": "a2461053",
   "metadata": {},
   "outputs": [
    {
     "name": "stdout",
     "output_type": "stream",
     "text": [
      "Gouri\n",
      "1 Gouri\n",
      "2 Rutuja\n",
      "{'1': 'Gouri', '2': 'Rutuja', '3': 'Mansi'}\n",
      "{'1': 'AISHWARYA', '2': 'Rutuja', '3': 'Mansi'}\n",
      "{'1': 'AISHWARYA', '3': 'Mansi'}\n",
      "{'3': 'Mansi'}\n",
      "{}\n"
     ]
    }
   ],
   "source": [
    "dict1 = {'1':'Gouri', '2':'Rutuja'}\n",
    "dict1\n",
    "dict1['1']\n",
    "print(dict1['1'])\n",
    "for k, v in dict1.items():\n",
    "    print(k,v)\n",
    "    \n",
    "    \n",
    "dict1['3'] = 'Mansi'\n",
    "print(dict1)\n",
    "dict1['1'] = 'AISHWARYA'\n",
    "print(dict1)\n",
    "# dict1.remove('3')\n",
    "# dict1\n",
    "del dict1['2']\n",
    "print(dict1)\n",
    "dict1.pop('1')\n",
    "print(dict1)\n",
    "dict1.clear()\n",
    "print(dict1)"
   ]
  },
  {
   "cell_type": "markdown",
   "id": "6aec3c8b",
   "metadata": {},
   "source": [
    "# Q8. To write a program for finding largest number from the given three numbers."
   ]
  },
  {
   "cell_type": "code",
   "execution_count": 7,
   "id": "02cd33fd",
   "metadata": {},
   "outputs": [
    {
     "name": "stdout",
     "output_type": "stream",
     "text": [
      "Give the first number :8\n",
      "Give the second number :2\n",
      "Give the third number :5\n",
      "The largest number from the given numbers is : 8\n"
     ]
    }
   ],
   "source": [
    "num1 = int(input('Give the first number :'))\n",
    "num2 = int(input('Give the second number :'))\n",
    "num3 = int(input('Give the third number :'))\n",
    "List = list([num1, num2, num3])\n",
    "List = sorted(List)\n",
    "print('The largest number from the given numbers is :',List[-1])"
   ]
  },
  {
   "cell_type": "markdown",
   "id": "8e11e21d",
   "metadata": {},
   "source": [
    "# Q9. To write a program to convert the given temperature Celsius to Fahrenheit."
   ]
  },
  {
   "cell_type": "code",
   "execution_count": 8,
   "id": "d184ef61",
   "metadata": {},
   "outputs": [
    {
     "name": "stdout",
     "output_type": "stream",
     "text": [
      "give the temperature :3\n",
      "The 3.0 degree celcius is equal to 37.4 Fahrenheit\n"
     ]
    }
   ],
   "source": [
    "Temp = float(input('give the temperature :'))\n",
    "#now convert the given temperature into Fahrenheit\n",
    "Fahrenheit = (Temp* 1.8)+32\n",
    "print(f'The {Temp} degree celcius is equal to {Fahrenheit} Fahrenheit' )"
   ]
  },
  {
   "cell_type": "markdown",
   "id": "ce6a3955",
   "metadata": {},
   "source": [
    "# Q10. Writing a programme to construct a diamond shape using for loop."
   ]
  },
  {
   "cell_type": "code",
   "execution_count": 9,
   "id": "2a8da4ab",
   "metadata": {},
   "outputs": [
    {
     "name": "stdout",
     "output_type": "stream",
     "text": [
      "        \n",
      "       #\n",
      "      ##\n",
      "     ###\n",
      "    ####\n",
      "   #####\n",
      "  ######\n",
      " #######\n",
      "  ######\n",
      "   #####\n",
      "    ####\n",
      "     ###\n",
      "      ##\n",
      "       #\n",
      "\n",
      "#\n",
      "##\n",
      "###\n",
      "####\n",
      "#####\n",
      "######\n",
      "#######\n",
      "######\n",
      "#####\n",
      "####\n",
      "###\n",
      "##\n",
      "#\n"
     ]
    }
   ],
   "source": [
    "j = 7\n",
    "k = 7\n",
    "p = 1\n",
    "\n",
    "for i in range(8):\n",
    "    print(\" \"*k,\"#\"*i)\n",
    "    k -= 1\n",
    "while j > 1:\n",
    "    j -= 1\n",
    "    print(\" \"*p, \"#\"*j)\n",
    "    p += 1\n",
    "    continue\n",
    "i = 1 \n",
    "j = 7\n",
    "\n",
    "for i in range(7):\n",
    "    print('#' * i)\n",
    "    i += 1\n",
    "while j > 0:\n",
    "    print('#' * j)\n",
    "    j -= 1"
   ]
  },
  {
   "cell_type": "markdown",
   "id": "6e85a9f3",
   "metadata": {},
   "source": [
    "# Q11. To write a code to find prime numbers from less than 20."
   ]
  },
  {
   "cell_type": "code",
   "execution_count": 10,
   "id": "8e1d56a7",
   "metadata": {},
   "outputs": [
    {
     "name": "stdout",
     "output_type": "stream",
     "text": [
      "Enter the number :4\n",
      "Prime numbers between  1 and 4 are:\n",
      "2\n",
      "3\n"
     ]
    }
   ],
   "source": [
    "starting_value = 1\n",
    "n = int(input('Enter the number :'))\n",
    "print('Prime numbers between ', starting_value, 'and', n, 'are:')\n",
    "for num in range(starting_value, n+1):\n",
    "    if num>1:\n",
    "        for i in range(2, int(num/2)+1):\n",
    "            if (num%i) == 0:\n",
    "                break\n",
    "        else:\n",
    "            print(num)"
   ]
  },
  {
   "cell_type": "markdown",
   "id": "b7d467fb",
   "metadata": {},
   "source": [
    "# Q12. Using Recursion method find the factorial of a given number."
   ]
  },
  {
   "cell_type": "code",
   "execution_count": 11,
   "id": "a0d4cef7",
   "metadata": {},
   "outputs": [
    {
     "name": "stdout",
     "output_type": "stream",
     "text": [
      "Enter a number :5\n",
      "The factorial of 5 is 120\n"
     ]
    }
   ],
   "source": [
    "def recur_factorial(n):\n",
    "    \"\"\"Function to return the factorial of a number using recursion\"\"\"\n",
    "    if n == 1:\n",
    "        return n\n",
    "    else:\n",
    "        return n*recur_factorial(n-1)\n",
    "    \n",
    "# change this value for a different result\n",
    "# num = 7\n",
    "\n",
    "# uncomment to take input from the user\n",
    "num = int(input('Enter a number :'))\n",
    "\n",
    "# check if the number is negative\n",
    "if num < 0:\n",
    "    print('Sorry, factorial does not exist for negative numbers')\n",
    "elif num == 0:\n",
    "    print('The factorial of 0 is 1')\n",
    "else:\n",
    "    print('The factorial of', num, 'is', recur_factorial(num))"
   ]
  },
  {
   "cell_type": "markdown",
   "id": "236b26d7",
   "metadata": {},
   "source": [
    "# Q13. By using length of 3 sides of triangle decide which triangle it is."
   ]
  },
  {
   "cell_type": "code",
   "execution_count": 12,
   "id": "4b8c3f1e",
   "metadata": {},
   "outputs": [
    {
     "name": "stdout",
     "output_type": "stream",
     "text": [
      "Input length of the triangle sides :\n",
      "x : 5\n",
      "y : 5\n",
      "z : 5\n",
      "Equilateral triangle\n"
     ]
    }
   ],
   "source": [
    "print('Input length of the triangle sides :')\n",
    "x = int(input('x : '))\n",
    "y = int(input('y : '))\n",
    "z = int(input('z : '))\n",
    "\n",
    "if x == y == z:\n",
    "    print('Equilateral triangle')\n",
    "elif x == y or y == z or z == x:\n",
    "    print('Isosceles triangle')\n",
    "else:\n",
    "    print('Scalene triangle')\n"
   ]
  },
  {
   "cell_type": "markdown",
   "id": "36d77af2",
   "metadata": {},
   "source": [
    "# Q14. To write a program to find Fibonacci numbers."
   ]
  },
  {
   "cell_type": "code",
   "execution_count": 13,
   "id": "dcf2d2e2",
   "metadata": {},
   "outputs": [],
   "source": [
    "def fib(n):  # Fibonacci series up to n\n",
    "    a,b = 0, 1\n",
    "    while a < n:\n",
    "        print(a, end = ' ')\n",
    "        a, b = b, a+b\n",
    "    print()\n",
    "    \n",
    "def fib2(n):   # return Fibonacci series up to n\n",
    "    result = []\n",
    "    a, b = 0, 1\n",
    "    while a < n:\n",
    "        result.append(a)\n",
    "        a, b = b, a+b\n",
    "    return result"
   ]
  },
  {
   "cell_type": "code",
   "execution_count": 14,
   "id": "0e3dad61",
   "metadata": {},
   "outputs": [
    {
     "name": "stdout",
     "output_type": "stream",
     "text": [
      "From method 1 fibonacci numbers :\n",
      "0 1 1 2 3 5 8 \n"
     ]
    }
   ],
   "source": [
    "print('From method 1 fibonacci numbers :')\n",
    "fib(10)"
   ]
  },
  {
   "cell_type": "code",
   "execution_count": 15,
   "id": "30dbd7b5",
   "metadata": {},
   "outputs": [
    {
     "name": "stdout",
     "output_type": "stream",
     "text": [
      "From method 2 fibonacci numbers :\n",
      "0 1 1 2 3 5 8 13 \n"
     ]
    }
   ],
   "source": [
    "print('From method 2 fibonacci numbers :')\n",
    "fib(21)"
   ]
  },
  {
   "cell_type": "markdown",
   "id": "77afc399",
   "metadata": {},
   "source": [
    "# Q15. To write a program to define a module and import a specific function in that module to another program."
   ]
  },
  {
   "cell_type": "code",
   "execution_count": 16,
   "id": "a57e2a55",
   "metadata": {},
   "outputs": [],
   "source": [
    "def div(a,b):\n",
    "    \"\"\"\"This program divide two \n",
    "    numbers and return the result\"\"\"\n",
    "    \n",
    "    result = a/b\n",
    "    return result"
   ]
  },
  {
   "cell_type": "code",
   "execution_count": 17,
   "id": "3d17390f",
   "metadata": {},
   "outputs": [
    {
     "data": {
      "text/plain": [
       "2.0"
      ]
     },
     "execution_count": 17,
     "metadata": {},
     "output_type": "execute_result"
    }
   ],
   "source": [
    "div(12,6)"
   ]
  },
  {
   "cell_type": "code",
   "execution_count": null,
   "id": "e3081b61",
   "metadata": {},
   "outputs": [],
   "source": []
  },
  {
   "cell_type": "code",
   "execution_count": null,
   "id": "f0ad3182",
   "metadata": {},
   "outputs": [],
   "source": []
  },
  {
   "cell_type": "markdown",
   "id": "5be0751e",
   "metadata": {},
   "source": [
    "# ASSIGNMENT 2"
   ]
  },
  {
   "cell_type": "raw",
   "id": "eea7a1eb",
   "metadata": {},
   "source": []
  },
  {
   "cell_type": "markdown",
   "id": "c06762db",
   "metadata": {},
   "source": [
    "# Program 1"
   ]
  },
  {
   "cell_type": "markdown",
   "id": "60f58c4f",
   "metadata": {},
   "source": [
    "# Q1. To create a list and performing various operations on it."
   ]
  },
  {
   "cell_type": "raw",
   "id": "ab55d077",
   "metadata": {},
   "source": [
    "operations :- 1. insert()- it is used for inserting a speficit item at specific point 2. remove()- it is used for removing specific item 3. append()- it is used for adding a spefic item at the end of the list 4. len()- it is used for measuring the length of list 5. pop()- it is used for deleting the last item from the list 6. clear()- it is used for clear the whole list"
   ]
  },
  {
   "cell_type": "code",
   "execution_count": 18,
   "id": "f3d5f468",
   "metadata": {},
   "outputs": [
    {
     "name": "stdout",
     "output_type": "stream",
     "text": [
      "[1, 3, 5, 20, 6, 7, [3, 4, 5], 'Hello']\n",
      "[1, 3, 5, 20, 6, [3, 4, 5], 'Hello']\n",
      "[1, 3, 5, 20, 6, [3, 4, 5], 'Hello', 'hi']\n",
      "8\n",
      "[1, 3, 5, 20, 6, [3, 4, 5], 'Hello']\n",
      "[1, 3, 5, 20, 6, [3, 4, 5]]\n",
      "[]\n"
     ]
    }
   ],
   "source": [
    "# creating a heterogenious list named as 'a'\n",
    "\n",
    "a = [1, 3, 5, 6, 7, [3, 4, 5], 'Hello']\n",
    "\n",
    "# inserting number 20 at the 3rd position\n",
    "a.insert(3, 20)\n",
    "print(a)\n",
    "\n",
    "# removing num 7 from the list\n",
    "a.remove(7)\n",
    "print(a)\n",
    "\n",
    "# appending 'hi' in the list\n",
    "a.append('hi')\n",
    "print(a)\n",
    "\n",
    "# find the length of list\n",
    "len(a)\n",
    "print(len(a))\n",
    "\n",
    "# delete the last item from the list\n",
    "a.pop()\n",
    "print(a)\n",
    "\n",
    "# delete the item on the 6th position\n",
    "a.pop(6)\n",
    "print(a)\n",
    "\n",
    "# make clear all the list\n",
    "a.clear()\n",
    "print(a)"
   ]
  },
  {
   "cell_type": "markdown",
   "id": "ce240758",
   "metadata": {},
   "source": [
    "# Q2. To create a dictionary and perform operations on it."
   ]
  },
  {
   "cell_type": "raw",
   "id": "0325ef18",
   "metadata": {},
   "source": [
    "operations :- 1. print the dictionary items 2. access items 3. use get() 4. change the values 5. use len()"
   ]
  },
  {
   "cell_type": "code",
   "execution_count": 19,
   "id": "5dce033e",
   "metadata": {},
   "outputs": [
    {
     "name": "stdout",
     "output_type": "stream",
     "text": [
      "name\n",
      "Age\n",
      "College\n",
      "Marital status\n",
      "Gouri\n",
      "22\n",
      "{'name': 'Gouri', 'Age': 22, 'College': 'Shivaji University', 'Marital status': 'Single'}\n",
      "4\n"
     ]
    }
   ],
   "source": [
    "#creating a dictionary named as 'b'\n",
    "\n",
    "b = {'name' : 'Gouri', 'Age' : 22, 'College' : 'NCK', 'Marital status' : 'Single'}\n",
    "\n",
    "# printing all the key value pairs in dictionary\n",
    "for i in b:\n",
    "    print(i)\n",
    "    \n",
    "# accesing the value of specific key\n",
    "b['name']\n",
    "print(b['name'])\n",
    "\n",
    "# use the get() function to get the specific value\n",
    "n = b.get('Age')\n",
    "print(n)\n",
    "\n",
    "# to change the value of some key \n",
    "b['College'] = 'Shivaji University'\n",
    "print(b)\n",
    "\n",
    "# to find the length of our dictionary\n",
    "len(b)\n",
    "print(len(b))"
   ]
  },
  {
   "cell_type": "markdown",
   "id": "e0455dfc",
   "metadata": {},
   "source": [
    "# Q3. To create the tuple and perform methods on it."
   ]
  },
  {
   "cell_type": "raw",
   "id": "583b14d0",
   "metadata": {},
   "source": [
    "methods :- 1. Add items in it 2. check length of it 3. cheking items in it 4. accessing items in it"
   ]
  },
  {
   "cell_type": "code",
   "execution_count": 20,
   "id": "8c9902f7",
   "metadata": {},
   "outputs": [
    {
     "name": "stdout",
     "output_type": "stream",
     "text": [
      "5\n",
      "True\n",
      "False\n",
      "(6, [11, 22, 33], 'False')\n"
     ]
    },
    {
     "ename": "AttributeError",
     "evalue": "'tuple' object has no attribute 'add'",
     "output_type": "error",
     "traceback": [
      "\u001b[1;31m---------------------------------------------------------------------------\u001b[0m",
      "\u001b[1;31mAttributeError\u001b[0m                            Traceback (most recent call last)",
      "\u001b[1;32mC:\\Users\\GAURIM~1\\AppData\\Local\\Temp/ipykernel_51816/2600557192.py\u001b[0m in \u001b[0;36m<module>\u001b[1;34m\u001b[0m\n\u001b[0;32m     18\u001b[0m \u001b[1;33m\u001b[0m\u001b[0m\n\u001b[0;32m     19\u001b[0m \u001b[1;31m# to add the items in tuple....But tuple is immutable so it will throw error\u001b[0m\u001b[1;33m\u001b[0m\u001b[1;33m\u001b[0m\u001b[0m\n\u001b[1;32m---> 20\u001b[1;33m \u001b[0mc\u001b[0m\u001b[1;33m.\u001b[0m\u001b[0madd\u001b[0m\u001b[1;33m(\u001b[0m\u001b[1;36m9\u001b[0m\u001b[1;33m)\u001b[0m\u001b[1;33m\u001b[0m\u001b[1;33m\u001b[0m\u001b[0m\n\u001b[0m",
      "\u001b[1;31mAttributeError\u001b[0m: 'tuple' object has no attribute 'add'"
     ]
    }
   ],
   "source": [
    "# creating a tuple of name 'c'\n",
    "\n",
    "c = (2, 4, 6, [11, 22, 33], 'False')\n",
    "\n",
    "# check the length of our tuple\n",
    "len(c)\n",
    "print(len(c))\n",
    "\n",
    "# to find whether the item belongs to tuple or not\n",
    "2 in c\n",
    "print(2 in c)\n",
    "[11, 22, 33] not in c\n",
    "print([11, 22, 33] not in c)\n",
    "\n",
    "# to access the items in tuple\n",
    "c[2:5]\n",
    "print(c[2:5])\n",
    "\n",
    "# to add the items in tuple....But tuple is immutable so it will throw error\n",
    "c.add(9)"
   ]
  },
  {
   "cell_type": "markdown",
   "id": "ee85314f",
   "metadata": {},
   "source": [
    "# Program 2"
   ]
  },
  {
   "cell_type": "markdown",
   "id": "08c8a037",
   "metadata": {},
   "source": [
    "# Q1. To write a program that adds two numbers."
   ]
  },
  {
   "cell_type": "raw",
   "id": "20b42168",
   "metadata": {},
   "source": [
    "-> A is first number\n",
    "-> B is second numbe"
   ]
  },
  {
   "cell_type": "code",
   "execution_count": 21,
   "id": "b354fa0f",
   "metadata": {},
   "outputs": [
    {
     "name": "stdout",
     "output_type": "stream",
     "text": [
      "enter the first number : 3\n",
      "enter the second number : 4\n",
      "A + B =  7\n"
     ]
    }
   ],
   "source": [
    "A = input('enter the first number : ')\n",
    "B = input('enter the second number : ')\n",
    "\n",
    "C = int(A) + int(B)\n",
    "print('A + B = ', C)"
   ]
  },
  {
   "cell_type": "markdown",
   "id": "f4860d02",
   "metadata": {},
   "source": [
    "# Q2. To write a program for finding odd/even numbers."
   ]
  },
  {
   "cell_type": "code",
   "execution_count": 22,
   "id": "bebbc0fe",
   "metadata": {},
   "outputs": [
    {
     "name": "stdout",
     "output_type": "stream",
     "text": [
      "0 : The number is even.\n",
      "1 : The number is odd.\n",
      "2 : The number is even.\n",
      "3 : The number is odd.\n",
      "4 : The number is even.\n",
      "5 : The number is odd.\n",
      "6 : The number is even.\n",
      "7 : The number is odd.\n",
      "8 : The number is even.\n",
      "9 : The number is odd.\n"
     ]
    }
   ],
   "source": [
    "for i in range(10):\n",
    "    if i%2 == 0:\n",
    "        print('{} : The number is even.'.format(i))\n",
    "\n",
    "    else:\n",
    "        print('{} : The number is odd.'.format(i))"
   ]
  },
  {
   "cell_type": "markdown",
   "id": "606014ec",
   "metadata": {},
   "source": [
    "# Q3. Write a program for fiding the largest number among 3 given numbers."
   ]
  },
  {
   "cell_type": "raw",
   "id": "07552ab8",
   "metadata": {},
   "source": [
    "-> n1 : is first number\n",
    "-> n2 : is second number\n",
    "-> n3 : is third number"
   ]
  },
  {
   "cell_type": "code",
   "execution_count": 23,
   "id": "8c732833",
   "metadata": {},
   "outputs": [
    {
     "name": "stdout",
     "output_type": "stream",
     "text": [
      "first number :5\n",
      "second number :3\n",
      "third number :7\n",
      "The largest number among given 3 numbers is :  7\n"
     ]
    }
   ],
   "source": [
    "n1 = int(input('first number :'))\n",
    "n2 = int(input('second number :'))\n",
    "n3 = int(input('third number :'))\n",
    "\n",
    "N = list([n1, n2, n3])\n",
    "N = sorted(N)\n",
    "\n",
    "print('The largest number among given 3 numbers is : ', N[-1])"
   ]
  },
  {
   "cell_type": "markdown",
   "id": "29603a88",
   "metadata": {},
   "source": [
    "# Q4. To write a program to find the day of corresponding date"
   ]
  },
  {
   "cell_type": "raw",
   "id": "d4d7f387",
   "metadata": {},
   "source": [
    "-> 1 date for Monday\n",
    "-> 2 date for Tuesday\n",
    "-> 3 date for Wednesday\n",
    "-> 4 date for Thursday\n",
    "-> 5 date for Friday\n",
    "-> 6 date for Saturday\n",
    "-> 7 date for Sunday"
   ]
  },
  {
   "cell_type": "code",
   "execution_count": 24,
   "id": "fca177e3",
   "metadata": {},
   "outputs": [
    {
     "name": "stdout",
     "output_type": "stream",
     "text": [
      "give the number between 1 to 7 : 6\n",
      "It's a Saturday today\n"
     ]
    }
   ],
   "source": [
    "date = int(input('give the number between 1 to 7 : '))\n",
    "\n",
    "if date == 1:\n",
    "    print(\"It's a Monday today\")\n",
    "elif date == 2:\n",
    "    print(\"It's a Tuesday today\")\n",
    "elif date == 3:\n",
    "    print(\"It's a Wednesday today\")\n",
    "elif date == 4:\n",
    "    print(\"It's a Thursday today\")\n",
    "elif date == 5:\n",
    "    print(\"It's a Friday today\")\n",
    "elif date == 6:\n",
    "    print(\"It's a Saturday today\")\n",
    "elif date == 7:\n",
    "    print(\"It's a Sunday today\")\n",
    "else:\n",
    "    print('You may have given wrong input')"
   ]
  },
  {
   "cell_type": "markdown",
   "id": "bd682d43",
   "metadata": {},
   "source": [
    "# Program 3"
   ]
  },
  {
   "cell_type": "markdown",
   "id": "2445f6f9",
   "metadata": {},
   "source": [
    "# Q1. To create a menu by using the given options as follows"
   ]
  },
  {
   "cell_type": "raw",
   "id": "e8e461f0",
   "metadata": {},
   "source": [
    "1. To perform addition\n",
    "2. To perform substraction\n",
    "3. To perform multiplication\n",
    "4. To perform division"
   ]
  },
  {
   "cell_type": "code",
   "execution_count": 25,
   "id": "7a153ba0",
   "metadata": {},
   "outputs": [
    {
     "name": "stdout",
     "output_type": "stream",
     "text": [
      "Enter 1 == To perform Addition\n",
      "Enter 2 == To perform Substraction\n",
      "Enter 3 == To perform Multiplication\n",
      "Enter 4 == To perform Division\n",
      "Enter Your choice3\n",
      "Enter the 1st value2\n",
      "Enter the 2nd value4\n",
      "8\n"
     ]
    }
   ],
   "source": [
    "def add(a,b):\n",
    "    return a+b\n",
    "def sub(c,d):\n",
    "    return c-d\n",
    "def mul(e,f):\n",
    "    return e*f\n",
    "def div(g,h):\n",
    "    return g/h\n",
    "\n",
    "print('Enter 1 == To perform Addition')\n",
    "print('Enter 2 == To perform Substraction')\n",
    "print('Enter 3 == To perform Multiplication')\n",
    "print('Enter 4 == To perform Division')\n",
    "\n",
    "choice = int(input('Enter Your choice'))\n",
    "\n",
    "if choice ==1:\n",
    "    a = int(input('Enter the 1st value'))\n",
    "    b = int(input('Enter the 2nd value'))\n",
    "    print(add(a,b))\n",
    "elif choice == 2:\n",
    "    c = int(input('Enter the 1st value'))\n",
    "    d = int(input('Enter the 2nd value'))\n",
    "    print(sub(c,d))\n",
    "elif choice == 3:\n",
    "    e = int(input('Enter the 1st value'))\n",
    "    f = int(input('Enter the 2nd value'))\n",
    "    print(mul(e,f))\n",
    "elif choice == 4:\n",
    "    g = int(input('Enter the 1st value'))\n",
    "    h = int(input('Enter the 2nd value'))\n",
    "    print(div(g,h))\n",
    "else:\n",
    "    print('wrong choice')"
   ]
  },
  {
   "cell_type": "markdown",
   "id": "0cecc50b",
   "metadata": {},
   "source": [
    "# Q2. To write a program to check whether the string is palindrome or not"
   ]
  },
  {
   "cell_type": "code",
   "execution_count": 26,
   "id": "c4a66651",
   "metadata": {},
   "outputs": [
    {
     "name": "stdout",
     "output_type": "stream",
     "text": [
      "The word \"madam\" is palidrome\n"
     ]
    }
   ],
   "source": [
    "def word(checking_word):\n",
    "    a = checking_word[::-1]\n",
    "    if checking_word == a:\n",
    "        print(f'The word \"{checking_word}\" is palidrome')\n",
    "    else:\n",
    "        print(f'The word \"{checking_word}\" is not palidrome')\n",
    "        \n",
    "\n",
    "word('madam')"
   ]
  },
  {
   "cell_type": "markdown",
   "id": "4c4c24b6",
   "metadata": {},
   "source": [
    "# Q3. To write a program to find the factorial of a given number"
   ]
  },
  {
   "cell_type": "code",
   "execution_count": 27,
   "id": "6aa49abb",
   "metadata": {},
   "outputs": [
    {
     "name": "stdout",
     "output_type": "stream",
     "text": [
      "120\n"
     ]
    }
   ],
   "source": [
    "def factorial(i):\n",
    "    if i == 1:\n",
    "        return(1)\n",
    "    else:\n",
    "        return( i * factorial(i-1))\n",
    "\n",
    "\n",
    "a = factorial(5)\n",
    "print(a)"
   ]
  },
  {
   "cell_type": "markdown",
   "id": "bfe58a33",
   "metadata": {},
   "source": [
    "# Q4. To define a function that compares two lists and tell is lists are same or not."
   ]
  },
  {
   "cell_type": "code",
   "execution_count": 28,
   "id": "d64e7050",
   "metadata": {},
   "outputs": [
    {
     "name": "stdout",
     "output_type": "stream",
     "text": [
      "two lists are same\n"
     ]
    }
   ],
   "source": [
    "a = [4, 5]\n",
    "b = [4, 5, 6, 5]\n",
    "def compare(a,b):\n",
    "    if len(a) > len(b):\n",
    "        c = len(b)\n",
    "    elif len(a) == len(b):\n",
    "        c = len(a)\n",
    "    else:\n",
    "        c = len(a)\n",
    "        \n",
    "        \n",
    "    for i in range(c):\n",
    "        if a[i]==b[i]:\n",
    "            pass\n",
    "        else:\n",
    "            print('Two lists are not same')\n",
    "            continue\n",
    "    print('two lists are same')\n",
    "    \n",
    "    \n",
    "compare(a,b)"
   ]
  },
  {
   "cell_type": "markdown",
   "id": "50ef9787",
   "metadata": {},
   "source": [
    "# Program 4"
   ]
  },
  {
   "cell_type": "markdown",
   "id": "10689ddd",
   "metadata": {},
   "source": [
    "# Q1. Using lambda function double the given number and make addition of two numbers."
   ]
  },
  {
   "cell_type": "code",
   "execution_count": 29,
   "id": "f52cb4d4",
   "metadata": {},
   "outputs": [
    {
     "name": "stdout",
     "output_type": "stream",
     "text": [
      "8\n",
      "11\n"
     ]
    }
   ],
   "source": [
    "double = lambda x:2*x\n",
    "print(double(4))\n",
    "\n",
    "add = lambda x,y:x+y\n",
    "print(add(5,6))"
   ]
  },
  {
   "cell_type": "markdown",
   "id": "91c45de7",
   "metadata": {},
   "source": [
    "# Q2. To define a function that filter out only even numbers from the given list."
   ]
  },
  {
   "cell_type": "code",
   "execution_count": 30,
   "id": "f48bf515",
   "metadata": {},
   "outputs": [
    {
     "name": "stdout",
     "output_type": "stream",
     "text": [
      " 10 is even function\n",
      " 12 is even function\n",
      " 14 is even function\n",
      " 16 is even function\n",
      " 18 is even function\n"
     ]
    }
   ],
   "source": [
    "a = [10, 11, 12, 13, 14, 15, 16, 17, 18, 19]\n",
    "\n",
    "def filter(a):\n",
    "    for i in a:\n",
    "        if i%2 == 0:\n",
    "            print(f' {i} is even function')\n",
    "        else:\n",
    "            continue\n",
    "                      \n",
    "\n",
    "filter(a)"
   ]
  },
  {
   "cell_type": "markdown",
   "id": "0e81f136",
   "metadata": {},
   "source": [
    "# Q3. To write a progrm that doubles all the numbers from the given list."
   ]
  },
  {
   "cell_type": "code",
   "execution_count": 31,
   "id": "c8d2d6a5",
   "metadata": {},
   "outputs": [
    {
     "name": "stdout",
     "output_type": "stream",
     "text": [
      "the double of 1 is 2\n",
      "the double of 2 is 4\n",
      "the double of 3 is 6\n",
      "the double of 4 is 8\n",
      "the double of 5 is 10\n",
      "the double of 6 is 12\n",
      "the double of 12 is 24\n",
      "the double of 13 is 26\n",
      "the double of 14 is 28\n",
      "the double of 16 is 32\n"
     ]
    }
   ],
   "source": [
    "a = [1, 2, 3, 4, 5, 6, 12, 13, 14, 16]\n",
    "\n",
    "def map(a):\n",
    "    for i in a:\n",
    "        b = i*2\n",
    "        print(f'the double of {i} is {b}')\n",
    "              \n",
    "            \n",
    "map(a)"
   ]
  },
  {
   "cell_type": "markdown",
   "id": "011efef5",
   "metadata": {},
   "source": [
    "# Q4. Writing the program that adds all the elements in the list."
   ]
  },
  {
   "cell_type": "code",
   "execution_count": 32,
   "id": "7b66fcfa",
   "metadata": {},
   "outputs": [
    {
     "name": "stdout",
     "output_type": "stream",
     "text": [
      "18\n"
     ]
    }
   ],
   "source": [
    "a = [1, 2, 3, 4, 8]\n",
    "\n",
    "def reduce(a):\n",
    "    print(sum(a))\n",
    "    \n",
    "        \n",
    "reduce(a)"
   ]
  },
  {
   "cell_type": "markdown",
   "id": "58599465",
   "metadata": {},
   "source": [
    "# Program 5"
   ]
  },
  {
   "cell_type": "markdown",
   "id": "e91dd388",
   "metadata": {},
   "source": [
    "# Q1. Write a program to implement abnormal termination."
   ]
  },
  {
   "cell_type": "code",
   "execution_count": 33,
   "id": "dbcc17a7",
   "metadata": {},
   "outputs": [
    {
     "name": "stdout",
     "output_type": "stream",
     "text": [
      "Enter first no. :4\n",
      "Enter second no. :3\n",
      "1.3333333333333333\n"
     ]
    }
   ],
   "source": [
    "a = int(input('Enter first no. :'))\n",
    "b = int(input('Enter second no. :'))\n",
    "\n",
    "try :\n",
    "    print(a/b)\n",
    "\n",
    "except:\n",
    "    print('bye')"
   ]
  },
  {
   "cell_type": "markdown",
   "id": "555c0a83",
   "metadata": {},
   "source": [
    "# Program 6"
   ]
  },
  {
   "cell_type": "markdown",
   "id": "ac6cab87",
   "metadata": {},
   "source": [
    "# Q1. Python code for checking the version of python."
   ]
  },
  {
   "cell_type": "code",
   "execution_count": 34,
   "id": "48d10b46",
   "metadata": {},
   "outputs": [
    {
     "name": "stdout",
     "output_type": "stream",
     "text": [
      "System version is :\n",
      "3.9.7 (default, Sep 16 2021, 16:59:28) [MSC v.1916 64 bit (AMD64)]\n",
      "Version Information is :\n",
      "sys.version_info(major=3, minor=9, micro=7, releaselevel='final', serial=0)\n"
     ]
    }
   ],
   "source": [
    "import sys\n",
    "print('System version is :')\n",
    "print(sys.version)\n",
    "print('Version Information is :')\n",
    "print(sys.version_info)"
   ]
  },
  {
   "cell_type": "markdown",
   "id": "8d603651",
   "metadata": {},
   "source": [
    "# Q2. Write a program to check the acess permissions acquired by a file using os module."
   ]
  },
  {
   "cell_type": "code",
   "execution_count": 35,
   "id": "c2040825",
   "metadata": {},
   "outputs": [
    {
     "data": {
      "text/plain": [
       "False"
      ]
     },
     "execution_count": 35,
     "metadata": {},
     "output_type": "execute_result"
    }
   ],
   "source": [
    "import os\n",
    "\n",
    "os.access('text', os.R_OK) # check for read acess\n",
    "\n",
    "os.access('text', os.W_OK) # check for write acess\n",
    "\n",
    "os.access('text', os.X_OK) # check for execution acess\n",
    "\n",
    "os.access('text', os.F_OK) # check for existance acess"
   ]
  },
  {
   "cell_type": "markdown",
   "id": "3f28d8c7",
   "metadata": {},
   "source": [
    "# Q3. To write a program for displaying a particular month of a year using calendar module."
   ]
  },
  {
   "cell_type": "code",
   "execution_count": 36,
   "id": "23f212b9",
   "metadata": {},
   "outputs": [
    {
     "name": "stdout",
     "output_type": "stream",
     "text": [
      "    October 2019\n",
      "Mo Tu We Th Fr Sa Su\n",
      "    1  2  3  4  5  6\n",
      " 7  8  9 10 11 12 13\n",
      "14 15 16 17 18 19 20\n",
      "21 22 23 24 25 26 27\n",
      "28 29 30 31\n",
      "\n"
     ]
    }
   ],
   "source": [
    "import calendar\n",
    "\n",
    "yy = 2019\n",
    "mm = 10\n",
    "\n",
    "print(calendar.month(yy, mm))"
   ]
  },
  {
   "cell_type": "markdown",
   "id": "a92f7d01",
   "metadata": {},
   "source": [
    "# Q4. Program to print all the months in a given year."
   ]
  },
  {
   "cell_type": "code",
   "execution_count": 37,
   "id": "7b857665",
   "metadata": {},
   "outputs": [
    {
     "name": "stdout",
     "output_type": "stream",
     "text": [
      "Enter year : 2022\n",
      "                                  2022\n",
      "\n",
      "      January                   February                   March\n",
      "Mo Tu We Th Fr Sa Su      Mo Tu We Th Fr Sa Su      Mo Tu We Th Fr Sa Su\n",
      "                1  2          1  2  3  4  5  6          1  2  3  4  5  6\n",
      " 3  4  5  6  7  8  9       7  8  9 10 11 12 13       7  8  9 10 11 12 13\n",
      "10 11 12 13 14 15 16      14 15 16 17 18 19 20      14 15 16 17 18 19 20\n",
      "17 18 19 20 21 22 23      21 22 23 24 25 26 27      21 22 23 24 25 26 27\n",
      "24 25 26 27 28 29 30      28                        28 29 30 31\n",
      "31\n",
      "\n",
      "       April                      May                       June\n",
      "Mo Tu We Th Fr Sa Su      Mo Tu We Th Fr Sa Su      Mo Tu We Th Fr Sa Su\n",
      "             1  2  3                         1             1  2  3  4  5\n",
      " 4  5  6  7  8  9 10       2  3  4  5  6  7  8       6  7  8  9 10 11 12\n",
      "11 12 13 14 15 16 17       9 10 11 12 13 14 15      13 14 15 16 17 18 19\n",
      "18 19 20 21 22 23 24      16 17 18 19 20 21 22      20 21 22 23 24 25 26\n",
      "25 26 27 28 29 30         23 24 25 26 27 28 29      27 28 29 30\n",
      "                          30 31\n",
      "\n",
      "        July                     August                  September\n",
      "Mo Tu We Th Fr Sa Su      Mo Tu We Th Fr Sa Su      Mo Tu We Th Fr Sa Su\n",
      "             1  2  3       1  2  3  4  5  6  7                1  2  3  4\n",
      " 4  5  6  7  8  9 10       8  9 10 11 12 13 14       5  6  7  8  9 10 11\n",
      "11 12 13 14 15 16 17      15 16 17 18 19 20 21      12 13 14 15 16 17 18\n",
      "18 19 20 21 22 23 24      22 23 24 25 26 27 28      19 20 21 22 23 24 25\n",
      "25 26 27 28 29 30 31      29 30 31                  26 27 28 29 30\n",
      "\n",
      "      October                   November                  December\n",
      "Mo Tu We Th Fr Sa Su      Mo Tu We Th Fr Sa Su      Mo Tu We Th Fr Sa Su\n",
      "                1  2          1  2  3  4  5  6                1  2  3  4\n",
      " 3  4  5  6  7  8  9       7  8  9 10 11 12 13       5  6  7  8  9 10 11\n",
      "10 11 12 13 14 15 16      14 15 16 17 18 19 20      12 13 14 15 16 17 18\n",
      "17 18 19 20 21 22 23      21 22 23 24 25 26 27      19 20 21 22 23 24 25\n",
      "24 25 26 27 28 29 30      28 29 30                  26 27 28 29 30 31\n",
      "31\n",
      "\n"
     ]
    }
   ],
   "source": [
    "import datetime\n",
    "import calendar\n",
    "\n",
    "yy = int(input(\"Enter year : \"))\n",
    "\n",
    "print(calendar.calendar(yy))"
   ]
  },
  {
   "cell_type": "markdown",
   "id": "f80c9b25",
   "metadata": {},
   "source": [
    "# Program 7"
   ]
  },
  {
   "cell_type": "markdown",
   "id": "b1fd500e",
   "metadata": {},
   "source": [
    "# Q1. To write a program for getting date and time of today and now."
   ]
  },
  {
   "cell_type": "code",
   "execution_count": 38,
   "id": "d7ce71b0",
   "metadata": {},
   "outputs": [
    {
     "name": "stdout",
     "output_type": "stream",
     "text": [
      "2022-08-09 09:12:37.534810\n",
      "2022-08-09 09:12:37.534809\n"
     ]
    }
   ],
   "source": [
    "import datetime \n",
    "\n",
    "a = datetime.datetime.today()\n",
    "b = datetime.datetime.now()\n",
    "\n",
    "print(a)\n",
    "print(b)"
   ]
  },
  {
   "cell_type": "markdown",
   "id": "e0c65532",
   "metadata": {},
   "source": [
    "# Q2. To write a program to add some days to a particular date and print the date added."
   ]
  },
  {
   "cell_type": "code",
   "execution_count": 39,
   "id": "bf8844f1",
   "metadata": {},
   "outputs": [
    {
     "name": "stdout",
     "output_type": "stream",
     "text": [
      "2022-12-12 00:00:00\n"
     ]
    }
   ],
   "source": [
    "from datetime import datetime, timedelta\n",
    "\n",
    "particular_date = datetime(2022, 10, 28)\n",
    "new_date = particular_date + timedelta(45)\n",
    "print(new_date)"
   ]
  },
  {
   "cell_type": "markdown",
   "id": "266b55cc",
   "metadata": {},
   "source": [
    "# Q3. To write program which accepts the radius of a circle from user and computes the area using math module."
   ]
  },
  {
   "cell_type": "code",
   "execution_count": 40,
   "id": "17aa006e",
   "metadata": {},
   "outputs": [
    {
     "name": "stdout",
     "output_type": "stream",
     "text": [
      "Give the radius of circle = 4\n",
      "Area of a circle of radius 4.0 = 50.26548245743669\n"
     ]
    }
   ],
   "source": [
    "import math\n",
    "\n",
    "r = float(input('Give the radius of circle = '))\n",
    "\n",
    "area = math.pi *r *r\n",
    "\n",
    "print(f'Area of a circle of radius {r} =', area)"
   ]
  },
  {
   "cell_type": "markdown",
   "id": "fef0cd9d",
   "metadata": {},
   "source": [
    "# Program 8"
   ]
  },
  {
   "cell_type": "markdown",
   "id": "f0ac5aea",
   "metadata": {},
   "source": [
    "# Q1. Program to create a package (college), sub-package (alldept), modules (it, cse) and create admin and cabin function to module."
   ]
  },
  {
   "cell_type": "code",
   "execution_count": 41,
   "id": "157969ce",
   "metadata": {},
   "outputs": [],
   "source": [
    "class College:\n",
    "\n",
    "  def __init__(self, college):\n",
    "    self.name = college['name']\n",
    "    self.adress = college['adress']\n",
    "\n",
    "  def get_college_info(self):\n",
    "    return f\"name: {self.name}\\nadress: {self.adress}\"\n",
    "\n",
    "\n",
    "class alldept:\n",
    "\n",
    "  def __init__(self, dept):\n",
    "    self.department = alldept['department']\n",
    "    \n",
    "  def get_department_info(self):\n",
    "    return f\"Dept: {self.department}\""
   ]
  },
  {
   "cell_type": "code",
   "execution_count": null,
   "id": "70cdb5c5",
   "metadata": {},
   "outputs": [],
   "source": []
  },
  {
   "cell_type": "code",
   "execution_count": null,
   "id": "e945a2df",
   "metadata": {},
   "outputs": [],
   "source": []
  },
  {
   "cell_type": "markdown",
   "id": "536674c0",
   "metadata": {},
   "source": [
    "# ASSIGNMENT 3"
   ]
  },
  {
   "cell_type": "code",
   "execution_count": null,
   "id": "84b77668",
   "metadata": {},
   "outputs": [],
   "source": []
  },
  {
   "cell_type": "code",
   "execution_count": 42,
   "id": "4acfe771",
   "metadata": {},
   "outputs": [],
   "source": [
    "import tkinter\n",
    "from tkinter import *"
   ]
  },
  {
   "cell_type": "code",
   "execution_count": 43,
   "id": "03971a72",
   "metadata": {},
   "outputs": [],
   "source": [
    "window = Tk()\n",
    "# to rename the title of the window\n",
    "window.title('GUI')\n",
    "# pack is used to show the object in the window\n",
    "label = tkinter.Label(window, text = 'Hello World!').pack()\n",
    "window.mainloop()"
   ]
  },
  {
   "cell_type": "code",
   "execution_count": 44,
   "id": "d65ba0b5",
   "metadata": {},
   "outputs": [],
   "source": [
    "window = Tk()\n",
    "l1 = Label(window, text = 'edureka!',font=('Arial Bold', 50))\n",
    "l1.grid(column=0, row=0)\n",
    "window.mainloop()"
   ]
  },
  {
   "cell_type": "code",
   "execution_count": 45,
   "id": "377f6dc1",
   "metadata": {},
   "outputs": [],
   "source": [
    "window = Tk()\n",
    "L1 = Label(window, text = 'edureka!', font = ('Arial Bold', 50))\n",
    "window.geometry('350x200')\n",
    "L1.grid(column=0, row=0)\n",
    "window.mainloop()"
   ]
  },
  {
   "cell_type": "code",
   "execution_count": 46,
   "id": "cb6c52ae",
   "metadata": {},
   "outputs": [],
   "source": [
    "window = Tk()\n",
    "l1 = Label(window, text = 'edureka!')\n",
    "l1.grid(column=0, row=0)\n",
    "bt = Button(window, text='Enter')\n",
    "bt.grid(column=1, row=0)\n",
    "window.geometry('300x300')\n",
    "window.mainloop()"
   ]
  },
  {
   "cell_type": "code",
   "execution_count": 47,
   "id": "c71a15c0",
   "metadata": {},
   "outputs": [],
   "source": [
    "window = Tk()\n",
    "l1 = Label(window, text = 'edureka!')\n",
    "l1.grid(column=0, row=0)\n",
    "bt = Button(window, text='Enter', bg='red', fg= 'yellow')\n",
    "bt.grid(column=1, row=0)\n",
    "window.geometry('300x300')\n",
    "window.mainloop()"
   ]
  },
  {
   "cell_type": "code",
   "execution_count": 48,
   "id": "bfe729bd",
   "metadata": {},
   "outputs": [],
   "source": [
    "window = Tk()\n",
    "window.title('edureka!')\n",
    "window.geometry('300x300')\n",
    "top_frame = tkinter.Frame(window).pack()\n",
    "button_frame = tkinter.Frame(window).pack(side = 'bottom')\n",
    "\n",
    "btn1 = tkinter.Button(top_frame, text='Button 1', fg = 'red').pack()\n",
    "btn2 = tkinter.Button(top_frame, text='Button 2', fg = 'green').pack()\n",
    "btn3 = tkinter.Button(top_frame, text='Button 3', fg = 'purple').pack(side='left')\n",
    "btn4 = tkinter.Button(top_frame, text='Button 4', fg = 'maroon').pack(side='left')\n",
    "\n",
    "window.mainloop()"
   ]
  },
  {
   "cell_type": "code",
   "execution_count": 49,
   "id": "d51180e6",
   "metadata": {},
   "outputs": [],
   "source": [
    "window = Tk()\n",
    "window.title('EDUREKA!')\n",
    "\n",
    "#creating 2 text labels and input labels\n",
    "\n",
    "tkinter.Label(window, text = 'Username').grid(row=0) #this is placed in 0 0\n",
    "# Entry is used to display the input-field\n",
    "tkinter.Entry(window).grid(row=0, column =1) # this is placed in 0 1\n",
    "\n",
    "tkinter.Label(window, text = 'Password').grid(row =1) # this is placed in 1 0\n",
    "tkinter.Entry(window).grid(row=1, column=1) # this is placed in 1 1\n",
    "\n",
    "# 'Checkbutton' is used to create the check button\n",
    "tkinter.Checkbutton(window, text= 'Keep me logged IN').grid(columnspan =2) # 'columnspan' tell to take the widt of  2 , you can also use 'rowspan' in the similar\n",
    "window.mainloop()"
   ]
  },
  {
   "cell_type": "markdown",
   "id": "be623157",
   "metadata": {},
   "source": [
    "### Creating 'Entry' box"
   ]
  },
  {
   "cell_type": "code",
   "execution_count": 50,
   "id": "b2c2d1ba",
   "metadata": {},
   "outputs": [],
   "source": [
    "window = Tk()\n",
    "window.geometry('250x250')\n",
    "txt = Entry(window, width = 10)\n",
    "txt.grid(column = 1, row = 0)\n",
    "def clicked():\n",
    "    res = 'Welcome to' + txt.get()\n",
    "    res.configure(text=res)\n",
    "bt = Button(window,text = 'Enter', command = clicked)\n",
    "bt.grid(column = 1, row=1)\n",
    "window.mainloop()"
   ]
  },
  {
   "cell_type": "markdown",
   "id": "3fddd7c5",
   "metadata": {},
   "source": [
    "### Creating 'Button content'"
   ]
  },
  {
   "cell_type": "code",
   "execution_count": 51,
   "id": "3e82bbe2",
   "metadata": {},
   "outputs": [],
   "source": [
    "import tkinter \n",
    "from tkinter import *\n",
    "\n",
    "window = Tk()\n",
    "\n",
    "window.title('GUI')\n",
    "window.geometry('300x300')\n",
    "#creating a function calling say_hi()\n",
    "def say_Hi():\n",
    "    tkinter.Label(window, text = 'Hi').pack()\n",
    "    \n",
    "tkinter.Button(window, text = 'Click Here', command = say_Hi).pack()\n",
    "        \n",
    "window.mainloop()"
   ]
  },
  {
   "cell_type": "markdown",
   "id": "a9ca93eb",
   "metadata": {},
   "source": [
    "### Creating 'Button content' with multiple button options"
   ]
  },
  {
   "cell_type": "code",
   "execution_count": 52,
   "id": "6925a0c4",
   "metadata": {},
   "outputs": [],
   "source": [
    "import tkinter\n",
    "\n",
    "window = tkinter.Tk()\n",
    "window.title('Edureka!')\n",
    "\n",
    "# creating a functionwith an argument 'event'\n",
    "def say_Hi(event):\n",
    "    tkinter.Label(window, text = 'Hi').pack()\n",
    "    \n",
    "btn = tkinter.Button(window, text = 'Click Here')\n",
    "btn.bind('<Button-1>', say_Hi)\n",
    "btn.pack()\n",
    "window.mainloop()"
   ]
  },
  {
   "cell_type": "code",
   "execution_count": 53,
   "id": "e1d065c9",
   "metadata": {},
   "outputs": [],
   "source": [
    "import tkinter\n",
    "\n",
    "window = tkinter.Tk()\n",
    "window.title('Edureka!')\n",
    "window.geometry('350x350')\n",
    "\n",
    "# creating different function for a event\n",
    "def left_click(event):\n",
    "    tkinter.Label(window, text = 'Left click').pack()\n",
    "    \n",
    "def middle_click(event):\n",
    "    tkinter.Label(window, text = 'Middle click').pack()\n",
    "    \n",
    "def right_click(event):\n",
    "    tkinter.Label(window, text = 'Right click').pack()\n",
    "    \n",
    "window.bind('<Button-1>', left_click)\n",
    "window.bind('<Button-2>', middle_click)\n",
    "window.bind('<Button-3>', right_click)\n",
    "\n",
    "window.mainloop()"
   ]
  },
  {
   "cell_type": "markdown",
   "id": "47672e7b",
   "metadata": {},
   "source": [
    "### Adding image"
   ]
  },
  {
   "cell_type": "code",
   "execution_count": 54,
   "id": "efe6b74c",
   "metadata": {},
   "outputs": [],
   "source": [
    "import tkinter\n",
    "\n",
    "window = tkinter.Tk()\n",
    "window = tkinter.Toplevel()\n",
    "window.title('Github')\n",
    "window.geometry('250x250')\n",
    "\n",
    "# taking image from the directory amd storing the source in a variable\n",
    "icon = tkinter.PhotoImage(file = \"C:\\\\Users\\\\Gauri Mohite\\\\Pictures\\\\PC screenshot\\white.png\")\n",
    "# doplaying the picture using a 'Label' by passing the picture variable to image parameter \n",
    "label = tkinter.Label(window, image = icon)\n",
    "label.pack()\n",
    "\n",
    "window.mainloop()"
   ]
  },
  {
   "cell_type": "markdown",
   "id": "a86cd144",
   "metadata": {},
   "source": [
    "### Creating a Calculator"
   ]
  },
  {
   "cell_type": "code",
   "execution_count": 55,
   "id": "a41a7e69",
   "metadata": {},
   "outputs": [],
   "source": [
    "from tkinter import *\n",
    "\n",
    "# creating basic window\n",
    "window = Tk()\n",
    "window.geometry('312x312')\n",
    "window.resizable(0,0)\n",
    "window.title('Calculator')\n",
    "\n",
    "######################################### functions ###########################################\n",
    "# 'btn_click' function continuously updates the input field whenever you enters a number\n",
    "def btn_click(item):\n",
    "    global expression\n",
    "    expression = expression + str(item)\n",
    "    input_text.set(expression)\n",
    "    \n",
    "# 'btn_clear' function clears the input fields\n",
    "def btn_clear():\n",
    "    global expression\n",
    "    expression = ''\n",
    "    input_text.set('')\n",
    "    \n",
    "# 'btn_equal' calculates the expression present in input field\n",
    "def btn_equal():\n",
    "    global expression\n",
    "    result = str(eval(expression)) # 'eval' function evalutes the string expression directly\n",
    "    #you can also implement your own function to evaluate the expression listed of 'eval' function\n",
    "    input_text.set(result)\n",
    "    expression = ''\n",
    "    \n",
    "expression = ''\n",
    "# 'StringVar()' is used to get the instance of input field\n",
    "input_text = StringVar()\n",
    "\n",
    "# creating a frame for the input field\n",
    "input_frame = Frame(window, width = 312, height = 50, bd = 0, highlightbackground = 'black', highlightcolor = 'black', highlightthickness = 1)\n",
    "input_frame.pack(side = TOP)\n",
    "\n",
    "# creating a input field inside the 'Frame'\n",
    "input_field = Entry(input_frame, font = ('arial', 18, 'bold'), textvariable = input_text, \n",
    "                    width = 50, bg = '#eee', bd = 0, justify = RIGHT)\n",
    "input_field.grid(row=0, column=0)\n",
    "input_field.pack(ipady = 10) # 'ipady' is internal padding to increase the height of input field\n",
    "\n",
    "# creating another 'Frame' for the button below the 'input_frame'\n",
    "btns_frame = Frame(window, width = 312, height = 272.5, bg = 'grey')\n",
    "btns_frame.pack()\n",
    "\n",
    "# first row\n",
    "clear = Button(btns_frame, text = 'C', fg = 'black', width = 32, height = 3, bd = 0, bg = '#eee', \n",
    "               cursor = 'hand2', command = lambda:btn_clear()).grid(row = 0, column = 0, \n",
    "                                                                    columnspan = 3, padx = 1, pady = 1)\n",
    "divide = Button(btns_frame, text = '/', fg = 'black', width = 10, height = 3, bd = 0, bg = '#eee', \n",
    "                cursor = 'hand2', command = lambda:btn_click('/')).grid(row = 0, column = 3, padx = 1, \n",
    "                                                                        pady = 1)\n",
    "\n",
    "# second row\n",
    "seven = Button(btns_frame, text = '7', fg = 'black', width = 10, height = 3, bd = 0, bg = '#fff', \n",
    "               cursor = 'hand2',\n",
    "               command = lambda:btn_click(7)).grid(row = 1, column = 0, padx = 1, pady=1)\n",
    "eight = Button(btns_frame, text = '8', fg = 'black', width = 10, height = 3, bd = 0, bg = '#fff', \n",
    "               cursor = 'hand2', \n",
    "               command = lambda:btn_click(8)).grid(row = 1, column = 1, padx = 1, pady=1)\n",
    "nine = Button(btns_frame, text = '9', fg = 'black', width = 10, height = 3, bd = 0, bg = '#fff', \n",
    "              cursor = 'hand2', \n",
    "              command = lambda:btn_click(9)).grid(row = 1, column = 2, padx = 1, pady=1)\n",
    "multipy = Button(btns_frame, text = '*', fg = 'black', width = 10, height = 3, bd = 0, bg = '#eee',\n",
    "                 cursor = 'hand2', \n",
    "                 command = lambda:btn_click('*')).grid(row = 1, column = 3, padx = 1, pady=1)\n",
    "\n",
    "# third row\n",
    "four = Button(btns_frame, text = '4', fg = 'black', width = 10, height = 3, bd = 0, bg = '#fff', \n",
    "              cursor = 'hand2', \n",
    "              command = lambda:btn_click(4)).grid(row = 2, column = 0, padx = 1, pady=1)\n",
    "five = Button(btns_frame, text = '5', fg = 'black', width = 10, height = 3, bd = 0, bg = '#fff', \n",
    "              cursor = 'hand2', \n",
    "              command = lambda:btn_click(5)).grid(row = 2, column = 1, padx = 1, pady=1)\n",
    "six = Button(btns_frame, text = '6', fg = 'black', width = 10, height = 3, bd = 0, bg = '#fff', \n",
    "             cursor = 'hand2', \n",
    "             command = lambda:btn_click(6)).grid(row = 2, column = 2, padx = 1, pady=1)\n",
    "minus = Button(btns_frame, text = '-', fg = 'black', width = 10, height = 3, bd = 0, bg = '#eee', \n",
    "               cursor = 'hand2', \n",
    "               command = lambda:btn_click('-')).grid(row = 2, column = 3, padx = 1, pady=1)\n",
    "\n",
    "# fourth row\n",
    "one = Button(btns_frame, text = '1', fg = 'black', width = 10, height = 3, bd = 0, bg = '#fff', \n",
    "             cursor = 'hand2', command = lambda:btn_click(1)).grid(row = 3, column = 0, padx = 1, pady=1)\n",
    "two = Button(btns_frame, text = '2', fg = 'black', width = 10, height = 3, bd = 0, bg = '#fff', \n",
    "             cursor = 'hand2', command = lambda:btn_click(2)).grid(row = 3, column = 1, padx = 1, pady=1)\n",
    "three = Button(btns_frame, text = '3', fg = 'black', width = 10, height = 3, bd = 0, bg = '#fff', \n",
    "               cursor = 'hand2', command = lambda:btn_click(3)).grid(row = 3, column = 2, padx = 1, pady=1)\n",
    "plus = Button(btns_frame, text = '+', fg = 'black', width = 10, height = 3, bd = 0, bg = '#eee', \n",
    "              cursor = 'hand2', command = lambda:btn_click('+')).grid(row = 3, column = 3, padx = 1, pady=1)\n",
    "\n",
    "# fifth row\n",
    "zero = Button(btns_frame, text = '0', fg = 'black', width = 21, height = 3, bd = 0, bg = '#fff', cursor = 'hand2', command = lambda:btn_click(0)).grid(row = 4, column = 0, columnspan = 2, padx = 1, pady=1)\n",
    "point = Button(btns_frame, text = '.', fg = 'black', width = 10, height = 3, bd = 0, bg = '#eee', cursor = 'hand2', command = lambda:btn_click('.')).grid(row = 4, column = 2, padx = 1, pady=1)\n",
    "equals = Button(btns_frame, text = '=', fg = 'black', width = 10, height = 3, bd = 0, bg = '#eee', cursor = 'hand2', command = lambda:btn_equal()).grid(row = 4, column = 3, padx = 1, pady=1)\n",
    "\n",
    "window.mainloop()"
   ]
  },
  {
   "cell_type": "code",
   "execution_count": null,
   "id": "9a1b9a10",
   "metadata": {},
   "outputs": [],
   "source": []
  },
  {
   "cell_type": "code",
   "execution_count": null,
   "id": "8e82be27",
   "metadata": {},
   "outputs": [],
   "source": []
  },
  {
   "cell_type": "markdown",
   "id": "a62c2d5e",
   "metadata": {},
   "source": [
    "# ASSIGMENT 4"
   ]
  },
  {
   "cell_type": "code",
   "execution_count": null,
   "id": "d6560cb8",
   "metadata": {},
   "outputs": [],
   "source": []
  },
  {
   "cell_type": "markdown",
   "id": "c29b7485",
   "metadata": {},
   "source": [
    "### Create Database"
   ]
  },
  {
   "cell_type": "code",
   "execution_count": null,
   "id": "badae5a4",
   "metadata": {},
   "outputs": [],
   "source": [
    "import mysql.connector\n",
    "\n",
    "dataBase = mysql.connector.connect(host=\"localhost\",user=\"root\",passwd=\"63774110\")\n",
    "\n",
    "# preparing a cursor object\n",
    "cursorObject = dataBase.cursor()\n",
    "\n",
    "# creating database\n",
    "cursorObject.execute(\"CREATE DATABASE polemam\")"
   ]
  },
  {
   "cell_type": "markdown",
   "id": "27ff2f89",
   "metadata": {},
   "source": [
    "### Create table"
   ]
  },
  {
   "cell_type": "code",
   "execution_count": null,
   "id": "498b6bf8",
   "metadata": {},
   "outputs": [],
   "source": [
    "import mysql.connector\n",
    "\n",
    "dataBase = mysql.connector.connect(host=\"localhost\",user=\"root\",\n",
    "                                   passwd=\"63774110\",database=\"polemam\")\n",
    "\n",
    "# preparing a cursor object\n",
    "cursorObject = dataBase.cursor()\n",
    "\n",
    "# creating table\n",
    "studentRecord = \"\"\"CREATE TABLE STUDENT (\n",
    "                   NAME  VARCHAR(20) NOT NULL,\n",
    "                   BRANCH VARCHAR(50),\n",
    "                   ROLL INT NOT NULL,\n",
    "                   AGE INT\n",
    "                   )\"\"\"\n",
    "\n",
    "# table created\n",
    "cursorObject.execute(studentRecord)\n",
    "\n",
    "# disconnecting from server\n",
    "dataBase.close()"
   ]
  },
  {
   "cell_type": "markdown",
   "id": "f01cac03",
   "metadata": {},
   "source": [
    "### Insert Row"
   ]
  },
  {
   "cell_type": "code",
   "execution_count": null,
   "id": "fc326732",
   "metadata": {},
   "outputs": [],
   "source": [
    "# importing required libraries\n",
    "import mysql.connector\n",
    "\n",
    "dataBase = mysql.connector.connect(host=\"localhost\",user=\"root\",\n",
    "                                   passwd=\"63774110\",database=\"polemam\")\n",
    "\n",
    "# preparing a cursor object\n",
    "cursorObject = dataBase.cursor()\n",
    "\n",
    "sql = \"INSERT INTO STUDENT(NAME, BRANCH, ROLL, AGE)\\\n",
    "VALUES(%s, %s, %s, %s)\"\n",
    "val = (\"Tom\",\"statistic\",\"34\",\"22\")\n",
    "\n",
    "cursorObject.execute(sql, val)\n",
    "dataBase.commit()\n",
    "\n",
    "#disconnecting from server\n",
    "dataBase.close()"
   ]
  },
  {
   "cell_type": "markdown",
   "id": "2237b091",
   "metadata": {},
   "source": [
    "### Insert Multiple Rows"
   ]
  },
  {
   "cell_type": "code",
   "execution_count": null,
   "id": "8054525b",
   "metadata": {},
   "outputs": [],
   "source": [
    "# importing required libraries\n",
    "import mysql.connector\n",
    "\n",
    "dataBase = mysql.connector.connect(host=\"localhost\", user=\"root\",\n",
    "                                   passwd=\"63774110\", database=\"polemam\")\n",
    "\n",
    "# preparing a cursor object\n",
    "cursorObject = dataBase.cursor()\n",
    "\n",
    "sql = \"INSERT INTO STUDENT(NAME, BRANCH, ROLL, AGE)\\\n",
    "VALUES(%s, %s, %s, %s)\"\n",
    "# To insert multiple rows\n",
    "val =[(\"josh\",\"math\",\"35\",\"21\"),\n",
    "      (\"jack\",\"phy\",\"36\",\"23\"),\n",
    "      (\"sam\",\"che\",\"37\",\"22\"),\n",
    "      (\"sita\",\"Eng\",\"38\",\"21\")]\n",
    "\n",
    "cursorObject.executemany(sql, val)\n",
    "dataBase.commit()\n",
    "\n",
    "# disconnecting from server\n",
    "dataBase.close()"
   ]
  },
  {
   "cell_type": "markdown",
   "id": "9d48222f",
   "metadata": {},
   "source": [
    "### Delete Data"
   ]
  },
  {
   "cell_type": "code",
   "execution_count": null,
   "id": "74f110a4",
   "metadata": {},
   "outputs": [],
   "source": [
    "# importing required libraries\n",
    "import mysql.connector\n",
    "\n",
    "dataBase = mysql.connector.connect(host=\"localhost\",user=\"root\",\n",
    "                                   passwd=\"63774110\",database=\"polemam\")\n",
    "\n",
    "# preparing a cursor object\n",
    "cursosObject = dataBase.cursor()\n",
    "\n",
    "query= \"DELETE FROM STUDENT WHERE Age = 23 \"\n",
    "# Here row where age was 23 is deleted\n",
    "cursosObject.execute(query)\n",
    "dataBase.commit()\n",
    "\n",
    "# disconnecting from server\n",
    "dataBase.close()"
   ]
  },
  {
   "cell_type": "markdown",
   "id": "8d26ee64",
   "metadata": {},
   "source": [
    "### Update Data"
   ]
  },
  {
   "cell_type": "code",
   "execution_count": null,
   "id": "8638bf7a",
   "metadata": {},
   "outputs": [],
   "source": [
    "# importing required libraries\n",
    "import mysql.connector\n",
    "\n",
    "dataBase = mysql.connector.connect(host=\"localhost\",user=\"root\",\n",
    "                                   passwd=\"63774110\",database=\"polemam\")\n",
    "\n",
    "# preparing a cursor object\n",
    "cursosObject = dataBase.cursor()\n",
    "\n",
    "query= \"UPDATE STUDENT SET Name = 'Rockey' WHERE Age = 23 \"\n",
    "# here this jack name is updated with rockey\n",
    "cursosObject.execute(query)\n",
    "\n",
    "dataBase.commit()\n",
    "\n",
    "# disconnecting from server\n",
    "dataBase.close()"
   ]
  },
  {
   "cell_type": "markdown",
   "id": "05ad9b75",
   "metadata": {},
   "source": [
    "### Limit Clause"
   ]
  },
  {
   "cell_type": "code",
   "execution_count": null,
   "id": "1b0d850d",
   "metadata": {},
   "outputs": [],
   "source": [
    "# importing required libraries\n",
    "import mysql.connector\n",
    "\n",
    "dataBase = mysql.connector.connect(host=\"localhost\",user=\"root\",\n",
    "                                   passwd=\"63774110\",database=\"polemam\")\n",
    "\n",
    "# preparing a cursor object\n",
    "cursosObject = dataBase.cursor()\n",
    "\n",
    "query= \"select * from student limit 3 offset 2\"\n",
    "cursosObject.execute(query)\n",
    "\n",
    "myresult = cursosObject.fetchall()\n",
    "\n",
    "for x in myresult:\n",
    "    print(x)\n",
    "\n",
    "# disconnecting from server\n",
    "dataBase.close()"
   ]
  }
 ],
 "metadata": {
  "kernelspec": {
   "display_name": "Python 3 (ipykernel)",
   "language": "python",
   "name": "python3"
  },
  "language_info": {
   "codemirror_mode": {
    "name": "ipython",
    "version": 3
   },
   "file_extension": ".py",
   "mimetype": "text/x-python",
   "name": "python",
   "nbconvert_exporter": "python",
   "pygments_lexer": "ipython3",
   "version": "3.9.7"
  }
 },
 "nbformat": 4,
 "nbformat_minor": 5
}

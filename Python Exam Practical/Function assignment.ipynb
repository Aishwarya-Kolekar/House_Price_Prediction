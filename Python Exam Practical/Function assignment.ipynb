{
 "cells": [
  {
   "cell_type": "markdown",
   "id": "252b4297",
   "metadata": {},
   "source": [
    "# Q1] Implementing Bubble Sort Algorithm"
   ]
  },
  {
   "cell_type": "code",
   "execution_count": 1,
   "id": "52103ce9",
   "metadata": {},
   "outputs": [
    {
     "name": "stdout",
     "output_type": "stream",
     "text": [
      "Enter the list of numbers: 3\n",
      "Original List:  [3]\n",
      "Sorted List: "
     ]
    }
   ],
   "source": [
    "def bubble_sort(alist):\n",
    "    for i in range(len(alist)-1,0,-1):\n",
    "        no_swap = True\n",
    "        for j in range(0,i):\n",
    "            if alist[j+1]<alist[j]:\n",
    "                alist[j],alist[j+1]=alist[j+1],alist[j]\n",
    "                no_swap = False\n",
    "        if no_swap:\n",
    "            return\n",
    "        \n",
    "alist = input(\"Enter the list of numbers: \").split()\n",
    "alist = [int(x) for x in alist]\n",
    "\n",
    "print(\"Original List: \",alist)\n",
    "\n",
    "bubble_sort(alist)\n",
    "print(\"Sorted List: \",end=\"\")\n"
   ]
  },
  {
   "cell_type": "markdown",
   "id": "fb032134",
   "metadata": {},
   "source": [
    "# Q2]To detect if 2 strings are Anagram"
   ]
  },
  {
   "cell_type": "code",
   "execution_count": 2,
   "id": "6fe90a41",
   "metadata": {},
   "outputs": [
    {
     "name": "stdout",
     "output_type": "stream",
     "text": [
      "Enter first string: 4\n",
      "Enter second string: jek\n",
      "The strings aren't anagrams.\n"
     ]
    }
   ],
   "source": [
    "S1 = input(\"Enter first string: \")\n",
    "S2 = input(\"Enter second string: \")\n",
    "if(sorted(S1) == sorted(S2)):\n",
    "    print(\"The strings are anagrams.\")\n",
    "else:\n",
    "    print(\"The strings aren't anagrams.\")"
   ]
  },
  {
   "cell_type": "markdown",
   "id": "768d46c1",
   "metadata": {},
   "source": [
    "# Q3]To create a class which performs basic calculator operations"
   ]
  },
  {
   "cell_type": "code",
   "execution_count": 3,
   "id": "0f435437",
   "metadata": {},
   "outputs": [
    {
     "name": "stdout",
     "output_type": "stream",
     "text": [
      "Enter First No.: 3\n",
      "Enter Second No.: 4\n",
      "0. Exist\n",
      "1. Add\n",
      "2. Substraction\n",
      "3. Multiplication\n",
      "4. Division\n",
      "Enter choice: 2\n",
      "Result:  -1\n",
      "0. Exist\n",
      "1. Add\n",
      "2. Substraction\n",
      "3. Multiplication\n",
      "4. Division\n",
      "Enter choice: 0\n",
      "Exiting!\n",
      "\n"
     ]
    }
   ],
   "source": [
    "class cal():\n",
    "    def __init__(self,a,b):\n",
    "        self.a=a\n",
    "        self.b=b\n",
    "    def add(self):\n",
    "        return self.a+self.b\n",
    "    def mul(self):\n",
    "        return self.a*self.b\n",
    "    def div(self):\n",
    "        return self.a/self.b\n",
    "    def sub(self):\n",
    "        return self.a-self.b\n",
    "    \n",
    "a = int(input(\"Enter First No.: \"))\n",
    "b = int(input(\"Enter Second No.: \"))\n",
    "\n",
    "obj = cal(a,b)\n",
    "choice = 1\n",
    "\n",
    "while choice !=0:\n",
    "    print(\"0. Exist\")\n",
    "    print(\"1. Add\")\n",
    "    print(\"2. Substraction\")\n",
    "    print(\"3. Multiplication\")\n",
    "    print(\"4. Division\")\n",
    "    choice = int(input(\"Enter choice: \"))\n",
    "    if choice == 1:\n",
    "        print(\"Result: \",obj.add())\n",
    "    elif choice == 2:\n",
    "        print(\"Result: \",obj.sub())\n",
    "    elif choice == 3:\n",
    "        print(\"Result: \",obj.mul())\n",
    "    elif choice == 4:\n",
    "        print(\"Result: \",round(obj.div(),2))\n",
    "    elif choice == 0:\n",
    "        print(\"Exiting!\")\n",
    "    else:\n",
    "        print(\"Invalid choice!!\")\n",
    "print()"
   ]
  },
  {
   "cell_type": "markdown",
   "id": "ceaaadc3",
   "metadata": {},
   "source": [
    "# Q4]To Find LCM and HCF of 2 numbers"
   ]
  },
  {
   "cell_type": "code",
   "execution_count": 4,
   "id": "9a472ddb",
   "metadata": {},
   "outputs": [
    {
     "name": "stdout",
     "output_type": "stream",
     "text": [
      "Enter two numbers to find HCF and LCM: \n",
      "2\n",
      "5\n",
      "HCF=  2\n",
      "LCM=  5.0\n"
     ]
    }
   ],
   "source": [
    "print(\"Enter two numbers to find HCF and LCM: \")\n",
    "\n",
    "number1 = int(input())\n",
    "number2 = int(input())\n",
    "\n",
    "temp1 = number1\n",
    "temp2 = number2\n",
    "\n",
    "while temp2 != 0:\n",
    "    t = temp2\n",
    "    temp2 = temp1 % temp2\n",
    "    \n",
    "hcf = t\n",
    "lcm = (number1*number2)/hcf\n",
    "\n",
    "print(\"HCF= \",hcf)\n",
    "print(\"LCM= \",lcm)"
   ]
  },
  {
   "cell_type": "markdown",
   "id": "e0b00bf8",
   "metadata": {},
   "source": [
    "# Q5]To Find the Sum of the Sine Series"
   ]
  },
  {
   "cell_type": "code",
   "execution_count": 5,
   "id": "a0d0fd9a",
   "metadata": {},
   "outputs": [
    {
     "name": "stdout",
     "output_type": "stream",
     "text": [
      "Enter the value of x in degrees: 8\n",
      "Enter the number of terms: 5\n",
      "0.14\n"
     ]
    }
   ],
   "source": [
    "import math\n",
    "\n",
    "def sin(x,n):\n",
    "    sine = 0\n",
    "    for i in range(n):\n",
    "        sign = (-1)**i\n",
    "        pi = 22/7\n",
    "        y = x*(pi/180)\n",
    "        sine = sine + ((y**(2.0*i+1))/math.factorial(2*i+1))*sign\n",
    "        return sine\n",
    "\n",
    "x = int(input(\"Enter the value of x in degrees: \"))\n",
    "n = int(input(\"Enter the number of terms: \"))\n",
    "print(round(sin(x,n),2))"
   ]
  },
  {
   "cell_type": "code",
   "execution_count": null,
   "id": "1fd55936",
   "metadata": {},
   "outputs": [],
   "source": []
  },
  {
   "cell_type": "code",
   "execution_count": null,
   "id": "0c456e39",
   "metadata": {},
   "outputs": [],
   "source": []
  },
  {
   "cell_type": "markdown",
   "id": "ffc876e9",
   "metadata": {},
   "source": [
    "# Q1. Design a Python program to find the average of best two marks out of three marks taken as input."
   ]
  },
  {
   "cell_type": "code",
   "execution_count": 6,
   "id": "53833e8d",
   "metadata": {},
   "outputs": [
    {
     "name": "stdout",
     "output_type": "stream",
     "text": [
      "Enter m1:3\n",
      "Enter m2:5\n",
      "Enter m3:7\n",
      "Average of best two marks =  6.0\n"
     ]
    }
   ],
   "source": [
    "x=int(input(\"Enter m1:\"))\n",
    "y=int(input(\"Enter m2:\"))\n",
    "z=int(input(\"Enter m3:\"))\n",
    "\n",
    "smallest=min(x,y,z)\n",
    "avg= (x+y+z-smallest)/2\n",
    "print(\"Average of best two marks = \",avg)"
   ]
  },
  {
   "cell_type": "markdown",
   "id": "93437c1f",
   "metadata": {},
   "source": [
    "# Q2] Write a program to reverse a string"
   ]
  },
  {
   "cell_type": "code",
   "execution_count": 9,
   "id": "1205bed9",
   "metadata": {},
   "outputs": [
    {
     "name": "stdout",
     "output_type": "stream",
     "text": [
      "Enter a stringhellow\n",
      "Reverse is wolleh\n"
     ]
    }
   ],
   "source": [
    "s= input(\"Enter a string\")\n",
    "s1=s[::-1]\n",
    "print(\"Reverse is\", s1)"
   ]
  },
  {
   "cell_type": "markdown",
   "id": "14d63835",
   "metadata": {},
   "source": [
    "# Q3] Write a program to list out all prime numbers between two integers m and n."
   ]
  },
  {
   "cell_type": "code",
   "execution_count": 10,
   "id": "d1a5b624",
   "metadata": {},
   "outputs": [
    {
     "name": "stdout",
     "output_type": "stream",
     "text": [
      "Enter m:4\n",
      "Enter n:5\n",
      "5\t"
     ]
    }
   ],
   "source": [
    "m=int(input(\"Enter m:\"))\n",
    "n=int(input(\"Enter n:\"))\n",
    "for i in range(m,n+1):\n",
    "    for j in range(2,i//2 +1):\n",
    "        if i%j==0:\n",
    "            break\n",
    "        else:\n",
    "            print(i,end='\\t')"
   ]
  },
  {
   "cell_type": "markdown",
   "id": "b14f6ce4",
   "metadata": {},
   "source": [
    "# Q4]Write a program to count the frequency of characters in a string."
   ]
  },
  {
   "cell_type": "code",
   "execution_count": 13,
   "id": "3015d9c6",
   "metadata": {},
   "outputs": [
    {
     "name": "stdout",
     "output_type": "stream",
     "text": [
      "Enter a string:gouri\n",
      "Enter character to be counted:mohite\n",
      "mohite has appeared 0 times\n"
     ]
    }
   ],
   "source": [
    "string=input(\"Enter a string:\")\n",
    "char=input(\"Enter character to be counted:\")\n",
    "c=string.count(char)\n",
    "print(char, \"has appeared\",c, \"times\")"
   ]
  },
  {
   "cell_type": "markdown",
   "id": "a0fa258f",
   "metadata": {},
   "source": [
    "# Q5]Write a Python function to get a string made of the first 2 and the last 2 chars from a given string. If the string length is less than 2, return empty string, otherwise return new string created"
   ]
  },
  {
   "cell_type": "code",
   "execution_count": 17,
   "id": "db1aa875",
   "metadata": {},
   "outputs": [
    {
     "name": "stdout",
     "output_type": "stream",
     "text": [
      "Enter a string:follow\n",
      "Extracted string is: foow\n"
     ]
    }
   ],
   "source": [
    "def substring(s):\n",
    "    if len(s)<2:\n",
    "        return ''\n",
    "    else:\n",
    "        sub=s[:2]+s[-2:]\n",
    "        return sub\n",
    "    \n",
    "s=input(\"Enter a string:\")\n",
    "s1=substring(s)\n",
    "print(\"Extracted string is:\",s1)"
   ]
  },
  {
   "cell_type": "markdown",
   "id": "fd04be57",
   "metadata": {},
   "source": [
    "# Q6]Consider a string s=“Hello how are you?”. Write a program to display this string without spaces"
   ]
  },
  {
   "cell_type": "code",
   "execution_count": 18,
   "id": "0c84c198",
   "metadata": {},
   "outputs": [
    {
     "name": "stdout",
     "output_type": "stream",
     "text": [
      "Enter a string:go to hell\n",
      "String without space: gotohell\n"
     ]
    }
   ],
   "source": [
    "s=input(\"Enter a string:\")\n",
    "s1=s.replace(' ', '')\n",
    "print(\"String without space:\",s1)"
   ]
  },
  {
   "cell_type": "markdown",
   "id": "1db619da",
   "metadata": {},
   "source": [
    "# Q7]. Write a Python program to remove the characters which have odd index values of a given string"
   ]
  },
  {
   "cell_type": "code",
   "execution_count": 19,
   "id": "2eb14ce1",
   "metadata": {},
   "outputs": [
    {
     "name": "stdout",
     "output_type": "stream",
     "text": [
      "Enter a string:hellow\n",
      "String with odd indexed characters removed: hlo\n"
     ]
    }
   ],
   "source": [
    "s=input(\"Enter a string:\")\n",
    "s1=s[::2]\n",
    "print(\"String with odd indexed characters removed:\",s1)"
   ]
  },
  {
   "cell_type": "markdown",
   "id": "967f81a9",
   "metadata": {},
   "source": [
    "# Q8] Write a Python program to change a given string to a new string where the first and last chars have been exchanged."
   ]
  },
  {
   "cell_type": "code",
   "execution_count": 20,
   "id": "483765f1",
   "metadata": {},
   "outputs": [
    {
     "name": "stdout",
     "output_type": "stream",
     "text": [
      "Enter a string:trees \n",
      "String first and last characters swapped:  reest\n"
     ]
    }
   ],
   "source": [
    "s=input(\"Enter a string:\")\n",
    "s1=s[-1]+s[1:-1]+s[0]\n",
    "print(\"String first and last characters swapped:\",s1)"
   ]
  },
  {
   "cell_type": "markdown",
   "id": "fdd49b19",
   "metadata": {},
   "source": [
    "# Q9]Write a program to perform simulation of simple calculator for basic operations like +, -, *, /, % etc. (Hint: Read a character +, - etc as operator from the user. Performrespective operation based on the operator. And Display the result)"
   ]
  },
  {
   "cell_type": "code",
   "execution_count": 23,
   "id": "92755806",
   "metadata": {},
   "outputs": [
    {
     "name": "stdout",
     "output_type": "stream",
     "text": [
      "Enter x:3\n",
      "Enter y:2\n",
      "Enter Operator:+\n"
     ]
    },
    {
     "data": {
      "text/plain": [
       "5"
      ]
     },
     "execution_count": 23,
     "metadata": {},
     "output_type": "execute_result"
    }
   ],
   "source": [
    "def Calci(a,b,op):\n",
    "     if op=='+':\n",
    "        return a+b\n",
    "     elif op=='-':\n",
    "        return a-b\n",
    "     elif op=='*':\n",
    "        return a*b\n",
    "     elif op=='/':\n",
    "        return a/b\n",
    "     elif op=='%':\n",
    "        return a%b\n",
    "     else:\n",
    "        return \"Invalid Operator\"\n",
    " \n",
    "\n",
    "x=int(input(\"Enter x:\"))\n",
    "y=int(input(\"Enter y:\"))\n",
    "op=input(\"Enter Operator:\")\n",
    "result=Calci(x,y,op)\n",
    "result"
   ]
  },
  {
   "cell_type": "markdown",
   "id": "4de2c894",
   "metadata": {},
   "source": [
    "# Q10]Write a program to list out all prime numbers between two integers m and n"
   ]
  },
  {
   "cell_type": "code",
   "execution_count": 31,
   "id": "f805633e",
   "metadata": {},
   "outputs": [
    {
     "name": "stdout",
     "output_type": "stream",
     "text": [
      "Enter m:2\n",
      "Enter n:5\n",
      "2,3,5,"
     ]
    }
   ],
   "source": [
    "\n",
    "m=int(input(\"Enter m:\"))\n",
    "n=int(input(\"Enter n:\"))\n",
    "for num in range(m, n+1):\n",
    "    if num>1:\n",
    "        for i in range(2, int(num/2)+1):\n",
    "            if (num%i) == 0:\n",
    "                break\n",
    "        else:\n",
    "            print(num, end=\"\\t\")"
   ]
  },
  {
   "cell_type": "markdown",
   "id": "25ceaa81",
   "metadata": {},
   "source": [
    "# write Fibonacci series up to n"
   ]
  },
  {
   "cell_type": "code",
   "execution_count": 39,
   "id": "c144769f",
   "metadata": {},
   "outputs": [
    {
     "name": "stdout",
     "output_type": "stream",
     "text": [
      "1\n",
      "1\n",
      "2\n",
      "3\n",
      "5\n",
      "8\n",
      "13\n",
      "21\n"
     ]
    }
   ],
   "source": [
    " def fib ( n ) : \n",
    "        a , b = 0 , 1\n",
    "        while b < n :\n",
    "            print (b) \n",
    "            a , b = b , a+b\n",
    "            \n",
    "fib(30)"
   ]
  },
  {
   "cell_type": "code",
   "execution_count": null,
   "id": "50ec8a92",
   "metadata": {},
   "outputs": [],
   "source": []
  }
 ],
 "metadata": {
  "kernelspec": {
   "display_name": "Python 3 (ipykernel)",
   "language": "python",
   "name": "python3"
  },
  "language_info": {
   "codemirror_mode": {
    "name": "ipython",
    "version": 3
   },
   "file_extension": ".py",
   "mimetype": "text/x-python",
   "name": "python",
   "nbconvert_exporter": "python",
   "pygments_lexer": "ipython3",
   "version": "3.9.7"
  }
 },
 "nbformat": 4,
 "nbformat_minor": 5
}
